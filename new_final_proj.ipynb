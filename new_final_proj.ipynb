{
 "cells": [
  {
   "cell_type": "markdown",
   "metadata": {},
   "source": [
    "## Data Importing and Pre-processing"
   ]
  },
  {
   "cell_type": "code",
   "execution_count": null,
   "metadata": {},
   "outputs": [],
   "source": [
    "# import libraries needed\n",
    "import pandas as pd\n",
    "\n",
    "pd.set_option(\"display.max_columns\", None)\n",
    "import matplotlib.pyplot as plt\n",
    "import seaborn as sns\n",
    "import numpy as np\n",
    "from scipy.stats import norm, skew, probplot\n",
    "from scipy.special import boxcox1p\n",
    "import warnings\n",
    "from datetime import datetime\n",
    "\n",
    "warnings.filterwarnings(\"ignore\")\n",
    "warnings.filterwarnings(\"ignore\", category=FutureWarning, module=\"pandas.*\")\n",
    "%matplotlib inline"
   ]
  },
  {
   "cell_type": "code",
   "execution_count": null,
   "metadata": {},
   "outputs": [],
   "source": [
    "# read file and see number of rows and cols\n",
    "nba_df = pd.read_csv(\"full_nba_salaries.csv\")\n",
    "nba_df.shape"
   ]
  },
  {
   "cell_type": "code",
   "execution_count": null,
   "metadata": {},
   "outputs": [],
   "source": [
    "nba_df.head()"
   ]
  },
  {
   "cell_type": "code",
   "execution_count": null,
   "metadata": {},
   "outputs": [],
   "source": [
    "# remove 'Lg_x' and 'Lg_y' columns\n",
    "# we understand that all of these players are in the NBA so having a column that all says they are in the nba, twice, is unnecessary \n",
    "nba_df = nba_df.drop(['Lg_x', 'Lg_y'], axis=1)\n",
    "\n",
    "# remove the 'Team' column because we already have 'Tm' \n",
    "nba_df = nba_df.drop(columns=['Team'])\n",
    "\n",
    "# reanme 'Unnamed: 0' column to 'ID'\n",
    "nba_df = nba_df.rename(columns={\"Unnamed: 0\": \"Id\"})"
   ]
  },
  {
   "cell_type": "code",
   "execution_count": null,
   "metadata": {},
   "outputs": [],
   "source": [
    "print(nba_df.dtypes)\n",
    "\n",
    "# we see that there are categorical variables that should be labeled as numeric"
   ]
  },
  {
   "cell_type": "code",
   "execution_count": null,
   "metadata": {},
   "outputs": [],
   "source": [
    "# list all columns from 'MP' to 'AST' that need to be converted to float\n",
    "col_to_be_floats = nba_df.loc[:, 'MP':'PTS'].columns.tolist()\n",
    "\n",
    "# add additional columns 'G', 'GS', to the list\n",
    "col_to_be_floats.extend(['G', 'GS'])\n",
    "\n",
    "# convert each column to float, handling non-numeric entries\n",
    "for column in col_to_be_floats:\n",
    "    # convert non-convertible strings to NaN\n",
    "    nba_df[column] = pd.to_numeric(nba_df[column], errors='coerce')"
   ]
  },
  {
   "cell_type": "code",
   "execution_count": null,
   "metadata": {},
   "outputs": [],
   "source": [
    "# remove the dollar sign and comma from the 'Salary' column\n",
    "nba_df['Salary'] = nba_df['Salary'].str.replace('$', '', regex=False)\n",
    "nba_df['Salary'] = nba_df['Salary'].str.replace(',', '', regex=False)\n",
    "\n",
    "# remove the '(TW)' which stands for a two-way contract\n",
    "nba_df['Salary'] = nba_df['Salary'].str.replace('(TW)', '', regex=False)\n",
    "\n",
    "# convert to int\n",
    "nba_df['Salary'] = nba_df['Salary'].astype(int)"
   ]
  },
  {
   "cell_type": "code",
   "execution_count": null,
   "metadata": {},
   "outputs": [],
   "source": [
    "# count number of categorical variables\n",
    "category_count = 0\n",
    "\n",
    "for cat in nba_df.dtypes:\n",
    "    if cat == \"object\":\n",
    "        category_count += 1\n",
    "\n",
    "print(\"Number of categorical variables:\", category_count)\n",
    "\n",
    "# column 1 is the ID column so we subract 1\n",
    "numeric_count = nba_df.shape[1] - category_count - 1\n",
    "\n",
    "print(\"Number of contineous variables:\", numeric_count)"
   ]
  },
  {
   "cell_type": "code",
   "execution_count": null,
   "metadata": {},
   "outputs": [],
   "source": [
    "nba_df.head()"
   ]
  },
  {
   "cell_type": "markdown",
   "metadata": {},
   "source": [
    "### Handling missing data"
   ]
  },
  {
   "cell_type": "code",
   "execution_count": null,
   "metadata": {},
   "outputs": [],
   "source": [
    "#Some rows are all labled \"Did not play (injury/illness)\". We can remove these rows as there is no valuable data\n",
    "dnp_mask = nba_df['Pos'].str.startswith(\"Did \")\n",
    "nba_df = nba_df[~dnp_mask]"
   ]
  },
  {
   "cell_type": "code",
   "execution_count": null,
   "metadata": {},
   "outputs": [],
   "source": [
    "# Some of the Awards data are null when they should just be marked as 'None'\n",
    "nba_df['Awards'].fillna('None', inplace=True)"
   ]
  },
  {
   "cell_type": "code",
   "execution_count": null,
   "metadata": {},
   "outputs": [],
   "source": [
    "# display the missing data and its percent of the column\n",
    "total_missing = nba_df.isnull().sum().sort_values(ascending=False)\n",
    "percent_missing = (nba_df.isnull().sum() / nba_df.isnull().count()).sort_values(ascending=False)\n",
    "\n",
    "missing_data_df = pd.concat([total_missing, percent_missing], axis=1, keys=[\"Total Missing\", \"Percent Missing\"])\n",
    "missing_data_df"
   ]
  },
  {
   "cell_type": "code",
   "execution_count": null,
   "metadata": {},
   "outputs": [],
   "source": [
    "# visualize this in a bar graph\n",
    "missing_data_df[\"Percent Missing\"].head(10).plot(\n",
    "    kind=\"barh\", figsize=(20, 10)\n",
    ").invert_yaxis()  # top 10 missing columns\n",
    "plt.xlabel(\"Missing Proportion\")\n",
    "plt.ylabel(\"Variable Name\")\n",
    "plt.title(\"Top 10 Proportion of Missing Data In Columns\")\n",
    "plt.show()"
   ]
  },
  {
   "cell_type": "code",
   "execution_count": null,
   "metadata": {},
   "outputs": [],
   "source": [
    "# see what the null values are for 'GS'\n",
    "null_gs = nba_df[nba_df['GS'].isnull()]\n",
    "null_gs.head()"
   ]
  },
  {
   "cell_type": "code",
   "execution_count": null,
   "metadata": {},
   "outputs": [],
   "source": [
    "# impute Magic Johnson's null values of games started to be equal to his games, since stat was never recorded\n",
    "nba_df['GS'] = nba_df['GS'].fillna(nba_df['G'])"
   ]
  },
  {
   "cell_type": "markdown",
   "metadata": {},
   "source": [
    "## Data Analysis and Visualization"
   ]
  },
  {
   "cell_type": "code",
   "execution_count": null,
   "metadata": {},
   "outputs": [],
   "source": [
    "import pandas as pd\n",
    "\n",
    "# Filter stats between the 2015-16 season and the 2021-22 season\n",
    "filtered_df = nba_df[(nba_df['Season'] >= '2015-16') & (nba_df['Season'] <= '2021-22')]\n",
    "\n",
    "# Select all numerical stat values for a player\n",
    "columns_to_analyze = ['Salary', 'Age', 'G', 'GS', 'MP', 'FG', 'FGA', 'FG%', '3P', '3PA', '3P%', '2P', '2PA', '2P%', 'eFG%', 'FT', 'FTA', 'FT%', 'ORB', 'DRB', 'TRB', 'AST', 'STL', 'BLK', 'TOV', 'PF', 'PTS']\n",
    "\n",
    "# Calculate the correlation matrix between all stats\n",
    "correlation_matrix = filtered_df[columns_to_analyze].corr()\n",
    "\n",
    "# View the correlation values between salary and other columns\n",
    "print(correlation_matrix['Salary'].sort_values(ascending=False))"
   ]
  },
  {
   "cell_type": "code",
   "execution_count": 44,
   "metadata": {},
   "outputs": [],
   "source": [
    "# Replace season with start year\n",
    "nba_df['Season'] = nba_df['Season'].apply(lambda x: int(x.split('-')[0]))"
   ]
  },
  {
   "cell_type": "markdown",
   "metadata": {},
   "source": [
    "### Encode categorical data"
   ]
  },
  {
   "cell_type": "code",
   "execution_count": null,
   "metadata": {},
   "outputs": [],
   "source": [
    "from sklearn.preprocessing import LabelEncoder\n",
    "cols = (\n",
    "    \"Tm\",\n",
    "    # \"Awards\", TODO: Make this better for awards\n",
    "    \"Pos\"\n",
    ")\n",
    "\n",
    "# process columns, apply LabelEncoder to categorical features\n",
    "for c in cols:\n",
    "    lbl = LabelEncoder()\n",
    "    lbl.fit(list(nba_df[c].values))\n",
    "    nba_df[c] = lbl.transform(list(nba_df[c].values))\n",
    "\n",
    "# shape\n",
    "print(\"Shape nba_df: {}\".format(nba_df.shape))"
   ]
  },
  {
   "cell_type": "code",
   "execution_count": null,
   "metadata": {},
   "outputs": [],
   "source": []
  },
  {
   "cell_type": "markdown",
   "metadata": {},
   "source": [
    "## Data Analytics"
   ]
  },
  {
   "cell_type": "code",
   "execution_count": null,
   "metadata": {},
   "outputs": [],
   "source": [
    "from sklearn.linear_model import ElasticNet\n",
    "from sklearn.ensemble import RandomForestRegressor\n",
    "from sklearn.linear_model import LinearRegression\n",
    "from sklearn.model_selection import TimeSeriesSplit\n",
    "from sklearn.metrics import mean_squared_error\n",
    "from sklearn.tree import DecisionTreeRegressor\n",
    "from sklearn.neighbors import KNeighborsRegressor"
   ]
  },
  {
   "cell_type": "markdown",
   "metadata": {},
   "source": [
    "### Redudant or Correlated Features\n",
    "It is clear that all percentage statistics are redudant as they have a low correlation value and can already be found in the raw data for shots made and shots attempted. We will remove these columns from the data when feeding it into our model.\n",
    "\n",
    "We will also be removing Offensive Rebounds (ORB) and Defensive Rebounds (DRB) and only keep the Total Rebounds (TRB). The former stats are included in the latter so having both is redundant as the features are correlated.\n",
    "\n",
    "We can also remove Games (G) and Games Started (GS) because this data can be reduced to Minutes Played (MP) which has a greater total correlation."
   ]
  },
  {
   "cell_type": "code",
   "execution_count": null,
   "metadata": {},
   "outputs": [],
   "source": [
    "# Select relevant features and avoid redundancy\n",
    "selected_features = ['PTS', 'FG', 'FGA', 'FT', 'FTA', '2P', '2PA', '3P', '3PA', 'MP', 'TRB', 'TOV', 'AST', 'STL', 'PF', 'BLK', 'AGE']\n",
    "\n",
    "# Use the selected features for modeling\n",
    "X = filtered_df[selected_features]\n",
    "y = filtered_df['Salary']\n"
   ]
  }
 ],
 "metadata": {
  "kernelspec": {
   "display_name": "Python 3.11.5 ('base')",
   "language": "python",
   "name": "python3"
  },
  "language_info": {
   "codemirror_mode": {
    "name": "ipython",
    "version": 3
   },
   "file_extension": ".py",
   "mimetype": "text/x-python",
   "name": "python",
   "nbconvert_exporter": "python",
   "pygments_lexer": "ipython3",
   "version": "3.11.5"
  },
  "orig_nbformat": 4,
  "vscode": {
   "interpreter": {
    "hash": "5ccb5ea80edbfae8c6780fa0b5909321291a27faa1189b515049edc570dffb73"
   }
  }
 },
 "nbformat": 4,
 "nbformat_minor": 2
}

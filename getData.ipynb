{
 "cells": [
  {
   "cell_type": "markdown",
   "metadata": {},
   "source": [
    "### See this link for scraping of Sports Reference: https://www.sports-reference.com/bot-traffic.html"
   ]
  },
  {
   "cell_type": "code",
   "execution_count": 130,
   "metadata": {},
   "outputs": [],
   "source": [
    "import os\n",
    "from bs4 import BeautifulSoup, Comment\n",
    "import requests\n",
    "import time\n",
    "import random\n",
    "import pandas as pd\n",
    "import html5lib\n",
    "import csv\n",
    "import warnings"
   ]
  },
  {
   "cell_type": "code",
   "execution_count": 132,
   "metadata": {},
   "outputs": [],
   "source": [
    "warnings.filterwarnings(\"ignore\")"
   ]
  },
  {
   "cell_type": "code",
   "execution_count": 3,
   "metadata": {},
   "outputs": [],
   "source": [
    "letters = [chr(letter) for letter in range(ord('a'), ord('z')+1)]"
   ]
  },
  {
   "cell_type": "code",
   "execution_count": 4,
   "metadata": {},
   "outputs": [],
   "source": [
    "def save_html(url, folder_path, file_name):\n",
    "\n",
    "    time.sleep(5)\n",
    "\n",
    "    # Make a GET request to the URL\n",
    "    response = requests.get(url)\n",
    "    \n",
    "    # Check if the request was successful\n",
    "    if response.status_code == 200:\n",
    "        # Create the folder if it doesn't exist\n",
    "        if not os.path.exists(folder_path):\n",
    "            os.makedirs(folder_path)\n",
    "        \n",
    "        # Write the HTML content to a file\n",
    "        with open(os.path.join(folder_path, file_name), 'w', encoding='utf-8') as f:\n",
    "            f.write(response.text)\n",
    "    else:\n",
    "        print(\"Failed to retrieve HTML. Status code:\", response.status_code)"
   ]
  },
  {
   "cell_type": "code",
   "execution_count": 42,
   "metadata": {},
   "outputs": [],
   "source": [
    "for letter in letters:\n",
    "    url = f\"https://www.basketball-reference.com/players/{letter}/\"\n",
    "    save_folder_path = \"data/player_names\"\n",
    "    file_name = f\"{letter}_names.html\"\n",
    "\n",
    "    save_html(url, save_folder_path, file_name)\n",
    "    "
   ]
  },
  {
   "cell_type": "code",
   "execution_count": 5,
   "metadata": {},
   "outputs": [],
   "source": [
    "def parse_html_file(file_path):\n",
    "    with open(file_path, 'r', encoding='utf-8') as file:\n",
    "        html_content = file.read()\n",
    "    \n",
    "    # Parse HTML using BeautifulSoup\n",
    "    soup = BeautifulSoup(html_content, 'html.parser')\n",
    "    \n",
    "    # Find the table with id=\"players\"\n",
    "    players_table = soup.find('table', id='players')\n",
    "    if players_table:\n",
    "        # Find all table rows within the players table\n",
    "        table_rows = players_table.find_all('tr')\n",
    "        \n",
    "        # Extract href values from anchor elements within each row\n",
    "        href_values = []\n",
    "        for row in table_rows:\n",
    "            anchor = row.find('a')\n",
    "            if anchor and anchor.has_attr('href'):\n",
    "                href_values.append(anchor['href'])\n",
    "        \n",
    "        return href_values\n",
    "    else:\n",
    "        print(\"No table with id='players' found in:\", file_path)\n",
    "        return []"
   ]
  },
  {
   "cell_type": "code",
   "execution_count": 44,
   "metadata": {},
   "outputs": [],
   "source": [
    "for letter in letters:\n",
    "    file_path = f\"data/player_names/{letter}_names.html\"\n",
    "    href_values = parse_html_file(file_path)\n",
    "\n",
    "    href_file_path = os.path.join(\"data/player_href\", f\"{letter}_names_href.txt\")\n",
    "    with open(href_file_path, 'w', encoding='utf-8') as href_file:\n",
    "        href_file.write('\\n'.join(href_values))"
   ]
  },
  {
   "cell_type": "code",
   "execution_count": 6,
   "metadata": {},
   "outputs": [],
   "source": [
    "def check_file_exists(file_path):\n",
    "    return os.path.exists(file_path)"
   ]
  },
  {
   "cell_type": "code",
   "execution_count": 7,
   "metadata": {},
   "outputs": [],
   "source": [
    "# Function to retrieve HTML for a single href and store it in player_html folder\n",
    "def save_player_html(href, folder_path):\n",
    "    # Make a GET request to the href\n",
    "    href = href.strip()\n",
    "\n",
    "    # Extract player ID from href\n",
    "    player_id = href.split('/')[-1]\n",
    "        \n",
    "    # Write the HTML content to a file\n",
    "    file_name = player_id\n",
    "    file_path = os.path.join(folder_path, file_name)\n",
    "\n",
    "    if not check_file_exists(file_path):\n",
    "        time.sleep(3.1)\n",
    "        url = f\"https://www.basketball-reference.com{href}\"\n",
    "        print(url)\n",
    "\n",
    "        response = requests.get(url)\n",
    "        \n",
    "        # Check if the request was successful\n",
    "        if response.status_code == 200:\n",
    "            with open(file_path, 'w', encoding='utf-8') as f:\n",
    "                f.write(response.text)\n",
    "        else:\n",
    "            print(f\"Failed to retrieve HTML for player {url}. Status code:\", response.status_code)\n",
    "    else:\n",
    "        return\n"
   ]
  },
  {
   "cell_type": "code",
   "execution_count": 8,
   "metadata": {},
   "outputs": [],
   "source": [
    "for letter in letters:\n",
    "    file_path = os.path.join(\"data/player_href/\", f\"{letter}_names_href.txt\")\n",
    "    with open(file_path, 'r', encoding='utf-8') as href_file:\n",
    "        for href in href_file:\n",
    "            # Call save_player_html function for each href\n",
    "            save_player_html(href, \"data/player_html\")"
   ]
  },
  {
   "cell_type": "code",
   "execution_count": 123,
   "metadata": {},
   "outputs": [],
   "source": [
    "def parse_player_salary_html(file_path):\n",
    "    with open(file_path, 'r', encoding='utf-8') as file:\n",
    "        html_content = file.read()\n",
    "\n",
    "    soup = BeautifulSoup(html_content, 'html.parser')\n",
    "\n",
    "    for comment in soup.find_all(string=lambda text:isinstance(text,Comment)):\n",
    "        data = BeautifulSoup(comment, \"html.parser\")\n",
    "\n",
    "        salaries_table = data.find('table', id='all_salaries')\n",
    "        if salaries_table:\n",
    "            break\n",
    "\n",
    "    if not salaries_table:\n",
    "        return pd.DataFrame()\n",
    "    df = pd.read_html(str(salaries_table))[0]\n",
    "    df_return = df[df['Season'] != 'Career']\n",
    "\n",
    "    return df_return"
   ]
  },
  {
   "cell_type": "code",
   "execution_count": 124,
   "metadata": {},
   "outputs": [],
   "source": [
    "def parse_player_stats_html(file_path):\n",
    "    with open(file_path, 'r', encoding='utf-8') as file:\n",
    "        html_content = file.read()\n",
    "\n",
    "    soup = BeautifulSoup(html_content, 'html.parser')\n",
    "\n",
    "    tfoot = soup.find_all('tfoot')\n",
    "    for item in tfoot:\n",
    "        item.decompose()\n",
    "\n",
    "    div_content = soup.find('div', id='info')\n",
    "    h1_content = div_content.find('h1')\n",
    "    name = h1_content.get_text(strip=True)\n",
    "\n",
    "    per_game_table = soup.find('table', id='per_game')\n",
    "\n",
    "    df = pd.read_html(str(per_game_table))[0]\n",
    "    df['Name'] = name\n",
    "    return df"
   ]
  },
  {
   "cell_type": "code",
   "execution_count": 125,
   "metadata": {},
   "outputs": [],
   "source": [
    "def create_df(html):\n",
    "    df_stats = parse_player_stats_html(html)\n",
    "    df_salary = parse_player_salary_html(html)\n",
    "    if df_salary.empty:\n",
    "        return df_salary\n",
    "\n",
    "    merged_df = pd.merge(df_stats, df_salary, on='Season', how='left')\n",
    "    merged_df = merged_df.dropna(subset=['Salary'])\n",
    "    return merged_df"
   ]
  },
  {
   "cell_type": "code",
   "execution_count": 136,
   "metadata": {},
   "outputs": [],
   "source": [
    "columns = ['Season', 'Age', 'Tm', 'Lg_x', 'Pos', 'G', 'GS', 'MP', 'FG', 'FGA',\n",
    "       'FG%', '3P', '3PA', '3P%', '2P', '2PA', '2P%', 'eFG%', 'FT', 'FTA',\n",
    "       'FT%', 'ORB', 'DRB', 'TRB', 'AST', 'STL', 'BLK', 'TOV', 'PF', 'PTS',\n",
    "       'Awards', 'Name', 'Team', 'Lg_y', 'Salary']\n",
    "\n",
    "csv_file = 'data/player_data.csv'\n",
    "\n",
    "with open(csv_file, mode='w', newline='') as file:\n",
    "    writer = csv.writer(file)\n",
    "    writer.writerow(columns)\n",
    "\n",
    "\n",
    "for html in os.listdir('data/player_html/'):\n",
    "    file_path = os.path.join(\"data/player_html/\", html)\n",
    "    df = create_df(file_path)\n",
    "\n",
    "    if not df.empty:\n",
    "        df.to_csv('data/player_data.csv', mode='a', index=False, header=False)"
   ]
  },
  {
   "cell_type": "code",
   "execution_count": 138,
   "metadata": {},
   "outputs": [],
   "source": [
    "df = pd.read_csv(\"data/player_data.csv\")\n",
    "df_sorted = df.sort_values(by='Season')\n",
    "df_filtered = df_sorted[df['Salary'].str.startswith('$')]\n",
    "df_filtered.to_csv(\"full_nba_salaries.csv\")"
   ]
  }
 ],
 "metadata": {
  "kernelspec": {
   "display_name": "Python 3.11.5 ('base')",
   "language": "python",
   "name": "python3"
  },
  "language_info": {
   "codemirror_mode": {
    "name": "ipython",
    "version": 3
   },
   "file_extension": ".py",
   "mimetype": "text/x-python",
   "name": "python",
   "nbconvert_exporter": "python",
   "pygments_lexer": "ipython3",
   "version": "3.11.5"
  },
  "orig_nbformat": 4,
  "vscode": {
   "interpreter": {
    "hash": "5ccb5ea80edbfae8c6780fa0b5909321291a27faa1189b515049edc570dffb73"
   }
  }
 },
 "nbformat": 4,
 "nbformat_minor": 2
}

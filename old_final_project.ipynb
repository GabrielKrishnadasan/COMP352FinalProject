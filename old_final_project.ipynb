{
 "cells": [
  {
   "cell_type": "markdown",
   "metadata": {},
   "source": [
    "## Data Importing and Pre-processing"
   ]
  },
  {
   "cell_type": "code",
   "execution_count": 1,
   "metadata": {},
   "outputs": [],
   "source": [
    "# import libraries needed\n",
    "import pandas as pd\n",
    "\n",
    "pd.set_option(\"display.max_columns\", None)\n",
    "import matplotlib.pyplot as plt\n",
    "import seaborn as sns\n",
    "import numpy as np\n",
    "from scipy.stats import norm, skew, probplot\n",
    "from scipy.special import boxcox1p\n",
    "import warnings\n",
    "from datetime import datetime\n",
    "\n",
    "warnings.filterwarnings(\"ignore\")\n",
    "warnings.filterwarnings(\"ignore\", category=FutureWarning, module=\"pandas.*\")\n",
    "%matplotlib inline"
   ]
  },
  {
   "cell_type": "code",
   "execution_count": 2,
   "metadata": {},
   "outputs": [
    {
     "data": {
      "text/plain": [
       "(467, 52)"
      ]
     },
     "execution_count": 2,
     "metadata": {},
     "output_type": "execute_result"
    }
   ],
   "source": [
    "# read file and see number of rows and cols\n",
    "nba_df = pd.read_csv(\"nba_2022-23_all_stats_with_salary.csv\")\n",
    "nba_df.shape"
   ]
  },
  {
   "cell_type": "code",
   "execution_count": 3,
   "metadata": {},
   "outputs": [
    {
     "data": {
      "text/html": [
       "<div>\n",
       "<style scoped>\n",
       "    .dataframe tbody tr th:only-of-type {\n",
       "        vertical-align: middle;\n",
       "    }\n",
       "\n",
       "    .dataframe tbody tr th {\n",
       "        vertical-align: top;\n",
       "    }\n",
       "\n",
       "    .dataframe thead th {\n",
       "        text-align: right;\n",
       "    }\n",
       "</style>\n",
       "<table border=\"1\" class=\"dataframe\">\n",
       "  <thead>\n",
       "    <tr style=\"text-align: right;\">\n",
       "      <th></th>\n",
       "      <th>Unnamed: 0</th>\n",
       "      <th>Player Name</th>\n",
       "      <th>Salary</th>\n",
       "      <th>Position</th>\n",
       "      <th>Age</th>\n",
       "      <th>Team</th>\n",
       "      <th>GP</th>\n",
       "      <th>GS</th>\n",
       "      <th>MP</th>\n",
       "      <th>FG</th>\n",
       "      <th>FGA</th>\n",
       "      <th>FG%</th>\n",
       "      <th>3P</th>\n",
       "      <th>3PA</th>\n",
       "      <th>3P%</th>\n",
       "      <th>2P</th>\n",
       "      <th>2PA</th>\n",
       "      <th>2P%</th>\n",
       "      <th>eFG%</th>\n",
       "      <th>FT</th>\n",
       "      <th>FTA</th>\n",
       "      <th>FT%</th>\n",
       "      <th>ORB</th>\n",
       "      <th>DRB</th>\n",
       "      <th>TRB</th>\n",
       "      <th>AST</th>\n",
       "      <th>STL</th>\n",
       "      <th>BLK</th>\n",
       "      <th>TOV</th>\n",
       "      <th>PF</th>\n",
       "      <th>PTS</th>\n",
       "      <th>Total Minutes</th>\n",
       "      <th>PER</th>\n",
       "      <th>TS%</th>\n",
       "      <th>3PAr</th>\n",
       "      <th>FTr</th>\n",
       "      <th>ORB%</th>\n",
       "      <th>DRB%</th>\n",
       "      <th>TRB%</th>\n",
       "      <th>AST%</th>\n",
       "      <th>STL%</th>\n",
       "      <th>BLK%</th>\n",
       "      <th>TOV%</th>\n",
       "      <th>USG%</th>\n",
       "      <th>OWS</th>\n",
       "      <th>DWS</th>\n",
       "      <th>WS</th>\n",
       "      <th>WS/48</th>\n",
       "      <th>OBPM</th>\n",
       "      <th>DBPM</th>\n",
       "      <th>BPM</th>\n",
       "      <th>VORP</th>\n",
       "    </tr>\n",
       "  </thead>\n",
       "  <tbody>\n",
       "    <tr>\n",
       "      <th>0</th>\n",
       "      <td>0</td>\n",
       "      <td>Stephen Curry</td>\n",
       "      <td>48070014</td>\n",
       "      <td>PG</td>\n",
       "      <td>34</td>\n",
       "      <td>GSW</td>\n",
       "      <td>56</td>\n",
       "      <td>56</td>\n",
       "      <td>34.7</td>\n",
       "      <td>10.0</td>\n",
       "      <td>20.2</td>\n",
       "      <td>0.493</td>\n",
       "      <td>4.9</td>\n",
       "      <td>11.4</td>\n",
       "      <td>0.427</td>\n",
       "      <td>5.1</td>\n",
       "      <td>8.8</td>\n",
       "      <td>0.579</td>\n",
       "      <td>0.614</td>\n",
       "      <td>4.6</td>\n",
       "      <td>5.0</td>\n",
       "      <td>0.915</td>\n",
       "      <td>0.7</td>\n",
       "      <td>5.4</td>\n",
       "      <td>6.1</td>\n",
       "      <td>6.3</td>\n",
       "      <td>0.9</td>\n",
       "      <td>0.4</td>\n",
       "      <td>3.2</td>\n",
       "      <td>2.1</td>\n",
       "      <td>29.4</td>\n",
       "      <td>1941</td>\n",
       "      <td>24.1</td>\n",
       "      <td>0.656</td>\n",
       "      <td>0.564</td>\n",
       "      <td>0.248</td>\n",
       "      <td>2.3</td>\n",
       "      <td>16.8</td>\n",
       "      <td>9.7</td>\n",
       "      <td>30.0</td>\n",
       "      <td>1.3</td>\n",
       "      <td>0.9</td>\n",
       "      <td>12.5</td>\n",
       "      <td>31.0</td>\n",
       "      <td>5.8</td>\n",
       "      <td>2.0</td>\n",
       "      <td>7.8</td>\n",
       "      <td>0.192</td>\n",
       "      <td>7.5</td>\n",
       "      <td>0.1</td>\n",
       "      <td>7.5</td>\n",
       "      <td>4.7</td>\n",
       "    </tr>\n",
       "    <tr>\n",
       "      <th>1</th>\n",
       "      <td>1</td>\n",
       "      <td>John Wall</td>\n",
       "      <td>47345760</td>\n",
       "      <td>PG</td>\n",
       "      <td>32</td>\n",
       "      <td>LAC</td>\n",
       "      <td>34</td>\n",
       "      <td>3</td>\n",
       "      <td>22.2</td>\n",
       "      <td>4.1</td>\n",
       "      <td>9.9</td>\n",
       "      <td>0.408</td>\n",
       "      <td>1.0</td>\n",
       "      <td>3.2</td>\n",
       "      <td>0.303</td>\n",
       "      <td>3.1</td>\n",
       "      <td>6.7</td>\n",
       "      <td>0.459</td>\n",
       "      <td>0.457</td>\n",
       "      <td>2.3</td>\n",
       "      <td>3.3</td>\n",
       "      <td>0.681</td>\n",
       "      <td>0.4</td>\n",
       "      <td>2.3</td>\n",
       "      <td>2.7</td>\n",
       "      <td>5.2</td>\n",
       "      <td>0.8</td>\n",
       "      <td>0.4</td>\n",
       "      <td>2.4</td>\n",
       "      <td>1.7</td>\n",
       "      <td>11.4</td>\n",
       "      <td>755</td>\n",
       "      <td>13.6</td>\n",
       "      <td>0.498</td>\n",
       "      <td>0.322</td>\n",
       "      <td>0.334</td>\n",
       "      <td>2.1</td>\n",
       "      <td>11.4</td>\n",
       "      <td>6.8</td>\n",
       "      <td>35.3</td>\n",
       "      <td>1.8</td>\n",
       "      <td>1.4</td>\n",
       "      <td>17.1</td>\n",
       "      <td>27.0</td>\n",
       "      <td>-0.4</td>\n",
       "      <td>0.7</td>\n",
       "      <td>0.3</td>\n",
       "      <td>0.020</td>\n",
       "      <td>-0.8</td>\n",
       "      <td>-0.4</td>\n",
       "      <td>-1.2</td>\n",
       "      <td>0.1</td>\n",
       "    </tr>\n",
       "    <tr>\n",
       "      <th>2</th>\n",
       "      <td>2</td>\n",
       "      <td>Russell Westbrook</td>\n",
       "      <td>47080179</td>\n",
       "      <td>PG</td>\n",
       "      <td>34</td>\n",
       "      <td>LAL/LAC</td>\n",
       "      <td>73</td>\n",
       "      <td>24</td>\n",
       "      <td>29.1</td>\n",
       "      <td>5.9</td>\n",
       "      <td>13.6</td>\n",
       "      <td>0.436</td>\n",
       "      <td>1.2</td>\n",
       "      <td>3.9</td>\n",
       "      <td>0.311</td>\n",
       "      <td>4.7</td>\n",
       "      <td>9.7</td>\n",
       "      <td>0.487</td>\n",
       "      <td>0.481</td>\n",
       "      <td>2.8</td>\n",
       "      <td>4.3</td>\n",
       "      <td>0.656</td>\n",
       "      <td>1.2</td>\n",
       "      <td>4.6</td>\n",
       "      <td>5.8</td>\n",
       "      <td>7.5</td>\n",
       "      <td>1.0</td>\n",
       "      <td>0.5</td>\n",
       "      <td>3.5</td>\n",
       "      <td>2.2</td>\n",
       "      <td>15.9</td>\n",
       "      <td>2126</td>\n",
       "      <td>16.1</td>\n",
       "      <td>0.513</td>\n",
       "      <td>0.289</td>\n",
       "      <td>0.317</td>\n",
       "      <td>4.7</td>\n",
       "      <td>16.5</td>\n",
       "      <td>10.8</td>\n",
       "      <td>38.6</td>\n",
       "      <td>1.7</td>\n",
       "      <td>1.3</td>\n",
       "      <td>18.4</td>\n",
       "      <td>27.7</td>\n",
       "      <td>-0.6</td>\n",
       "      <td>2.6</td>\n",
       "      <td>1.9</td>\n",
       "      <td>0.044</td>\n",
       "      <td>0.3</td>\n",
       "      <td>-0.1</td>\n",
       "      <td>0.2</td>\n",
       "      <td>1.2</td>\n",
       "    </tr>\n",
       "    <tr>\n",
       "      <th>3</th>\n",
       "      <td>3</td>\n",
       "      <td>LeBron James</td>\n",
       "      <td>44474988</td>\n",
       "      <td>PF</td>\n",
       "      <td>38</td>\n",
       "      <td>LAL</td>\n",
       "      <td>55</td>\n",
       "      <td>54</td>\n",
       "      <td>35.5</td>\n",
       "      <td>11.1</td>\n",
       "      <td>22.2</td>\n",
       "      <td>0.500</td>\n",
       "      <td>2.2</td>\n",
       "      <td>6.9</td>\n",
       "      <td>0.321</td>\n",
       "      <td>8.9</td>\n",
       "      <td>15.3</td>\n",
       "      <td>0.580</td>\n",
       "      <td>0.549</td>\n",
       "      <td>4.6</td>\n",
       "      <td>5.9</td>\n",
       "      <td>0.768</td>\n",
       "      <td>1.2</td>\n",
       "      <td>7.1</td>\n",
       "      <td>8.3</td>\n",
       "      <td>6.8</td>\n",
       "      <td>0.9</td>\n",
       "      <td>0.6</td>\n",
       "      <td>3.2</td>\n",
       "      <td>1.6</td>\n",
       "      <td>28.9</td>\n",
       "      <td>1954</td>\n",
       "      <td>23.9</td>\n",
       "      <td>0.583</td>\n",
       "      <td>0.309</td>\n",
       "      <td>0.268</td>\n",
       "      <td>3.7</td>\n",
       "      <td>20.8</td>\n",
       "      <td>12.5</td>\n",
       "      <td>33.5</td>\n",
       "      <td>1.2</td>\n",
       "      <td>1.4</td>\n",
       "      <td>11.6</td>\n",
       "      <td>33.3</td>\n",
       "      <td>3.2</td>\n",
       "      <td>2.4</td>\n",
       "      <td>5.6</td>\n",
       "      <td>0.138</td>\n",
       "      <td>5.5</td>\n",
       "      <td>0.6</td>\n",
       "      <td>6.1</td>\n",
       "      <td>4.0</td>\n",
       "    </tr>\n",
       "    <tr>\n",
       "      <th>4</th>\n",
       "      <td>4</td>\n",
       "      <td>Kevin Durant</td>\n",
       "      <td>44119845</td>\n",
       "      <td>PF</td>\n",
       "      <td>34</td>\n",
       "      <td>BRK/PHO</td>\n",
       "      <td>47</td>\n",
       "      <td>47</td>\n",
       "      <td>35.6</td>\n",
       "      <td>10.3</td>\n",
       "      <td>18.3</td>\n",
       "      <td>0.560</td>\n",
       "      <td>2.0</td>\n",
       "      <td>4.9</td>\n",
       "      <td>0.404</td>\n",
       "      <td>8.3</td>\n",
       "      <td>13.4</td>\n",
       "      <td>0.617</td>\n",
       "      <td>0.614</td>\n",
       "      <td>6.5</td>\n",
       "      <td>7.1</td>\n",
       "      <td>0.919</td>\n",
       "      <td>0.4</td>\n",
       "      <td>6.3</td>\n",
       "      <td>6.7</td>\n",
       "      <td>5.0</td>\n",
       "      <td>0.7</td>\n",
       "      <td>1.4</td>\n",
       "      <td>3.3</td>\n",
       "      <td>2.1</td>\n",
       "      <td>29.1</td>\n",
       "      <td>1672</td>\n",
       "      <td>25.9</td>\n",
       "      <td>0.677</td>\n",
       "      <td>0.267</td>\n",
       "      <td>0.387</td>\n",
       "      <td>1.2</td>\n",
       "      <td>19.5</td>\n",
       "      <td>10.5</td>\n",
       "      <td>24.5</td>\n",
       "      <td>1.0</td>\n",
       "      <td>3.4</td>\n",
       "      <td>13.4</td>\n",
       "      <td>30.7</td>\n",
       "      <td>4.7</td>\n",
       "      <td>2.1</td>\n",
       "      <td>6.8</td>\n",
       "      <td>0.194</td>\n",
       "      <td>6.0</td>\n",
       "      <td>1.2</td>\n",
       "      <td>7.1</td>\n",
       "      <td>3.9</td>\n",
       "    </tr>\n",
       "  </tbody>\n",
       "</table>\n",
       "</div>"
      ],
      "text/plain": [
       "   Unnamed: 0        Player Name    Salary Position  Age     Team  GP  GS  \\\n",
       "0           0      Stephen Curry  48070014       PG   34      GSW  56  56   \n",
       "1           1          John Wall  47345760       PG   32      LAC  34   3   \n",
       "2           2  Russell Westbrook  47080179       PG   34  LAL/LAC  73  24   \n",
       "3           3       LeBron James  44474988       PF   38      LAL  55  54   \n",
       "4           4       Kevin Durant  44119845       PF   34  BRK/PHO  47  47   \n",
       "\n",
       "     MP    FG   FGA    FG%   3P   3PA    3P%   2P   2PA    2P%   eFG%   FT  \\\n",
       "0  34.7  10.0  20.2  0.493  4.9  11.4  0.427  5.1   8.8  0.579  0.614  4.6   \n",
       "1  22.2   4.1   9.9  0.408  1.0   3.2  0.303  3.1   6.7  0.459  0.457  2.3   \n",
       "2  29.1   5.9  13.6  0.436  1.2   3.9  0.311  4.7   9.7  0.487  0.481  2.8   \n",
       "3  35.5  11.1  22.2  0.500  2.2   6.9  0.321  8.9  15.3  0.580  0.549  4.6   \n",
       "4  35.6  10.3  18.3  0.560  2.0   4.9  0.404  8.3  13.4  0.617  0.614  6.5   \n",
       "\n",
       "   FTA    FT%  ORB  DRB  TRB  AST  STL  BLK  TOV   PF   PTS  Total Minutes  \\\n",
       "0  5.0  0.915  0.7  5.4  6.1  6.3  0.9  0.4  3.2  2.1  29.4           1941   \n",
       "1  3.3  0.681  0.4  2.3  2.7  5.2  0.8  0.4  2.4  1.7  11.4            755   \n",
       "2  4.3  0.656  1.2  4.6  5.8  7.5  1.0  0.5  3.5  2.2  15.9           2126   \n",
       "3  5.9  0.768  1.2  7.1  8.3  6.8  0.9  0.6  3.2  1.6  28.9           1954   \n",
       "4  7.1  0.919  0.4  6.3  6.7  5.0  0.7  1.4  3.3  2.1  29.1           1672   \n",
       "\n",
       "    PER    TS%   3PAr    FTr  ORB%  DRB%  TRB%  AST%  STL%  BLK%  TOV%  USG%  \\\n",
       "0  24.1  0.656  0.564  0.248   2.3  16.8   9.7  30.0   1.3   0.9  12.5  31.0   \n",
       "1  13.6  0.498  0.322  0.334   2.1  11.4   6.8  35.3   1.8   1.4  17.1  27.0   \n",
       "2  16.1  0.513  0.289  0.317   4.7  16.5  10.8  38.6   1.7   1.3  18.4  27.7   \n",
       "3  23.9  0.583  0.309  0.268   3.7  20.8  12.5  33.5   1.2   1.4  11.6  33.3   \n",
       "4  25.9  0.677  0.267  0.387   1.2  19.5  10.5  24.5   1.0   3.4  13.4  30.7   \n",
       "\n",
       "   OWS  DWS   WS  WS/48  OBPM  DBPM  BPM  VORP  \n",
       "0  5.8  2.0  7.8  0.192   7.5   0.1  7.5   4.7  \n",
       "1 -0.4  0.7  0.3  0.020  -0.8  -0.4 -1.2   0.1  \n",
       "2 -0.6  2.6  1.9  0.044   0.3  -0.1  0.2   1.2  \n",
       "3  3.2  2.4  5.6  0.138   5.5   0.6  6.1   4.0  \n",
       "4  4.7  2.1  6.8  0.194   6.0   1.2  7.1   3.9  "
      ]
     },
     "execution_count": 3,
     "metadata": {},
     "output_type": "execute_result"
    }
   ],
   "source": [
    "nba_df.head()"
   ]
  },
  {
   "cell_type": "code",
   "execution_count": 4,
   "metadata": {},
   "outputs": [],
   "source": [
    "# reanme 'Unnamed: 0' column to 'ID'\n",
    "nba_df = nba_df.rename(columns={\"Unnamed: 0\": \"Id\"})"
   ]
  },
  {
   "cell_type": "code",
   "execution_count": 5,
   "metadata": {},
   "outputs": [],
   "source": [
    "# Remove spaces from column names\n",
    "nba_df.columns = [col.replace(\" \", \"\") for col in nba_df.columns]"
   ]
  },
  {
   "cell_type": "code",
   "execution_count": 6,
   "metadata": {},
   "outputs": [],
   "source": [
    "# count number of categorical variables\n",
    "category_count = 0\n",
    "\n",
    "for cat in nba_df.dtypes:\n",
    "    if cat == \"object\":\n",
    "        category_count += 1"
   ]
  },
  {
   "cell_type": "code",
   "execution_count": 7,
   "metadata": {},
   "outputs": [
    {
     "name": "stdout",
     "output_type": "stream",
     "text": [
      "Number of categorical variables: 3\n",
      "Number of contineous variables: 48\n"
     ]
    }
   ],
   "source": [
    "print(\"Number of categorical variables:\", category_count)\n",
    "\n",
    "# column 1 is the ID column so we subract 1\n",
    "numeric_count = nba_df.shape[1] - category_count - 1\n",
    "\n",
    "print(\"Number of contineous variables:\", numeric_count)"
   ]
  },
  {
   "cell_type": "code",
   "execution_count": 8,
   "metadata": {},
   "outputs": [
    {
     "data": {
      "text/plain": [
       "Index(['Id', 'PlayerName', 'Salary', 'Position', 'Age', 'Team', 'GP', 'GS',\n",
       "       'MP', 'FG', 'FGA', 'FG%', '3P', '3PA', '3P%', '2P', '2PA', '2P%',\n",
       "       'eFG%', 'FT', 'FTA', 'FT%', 'ORB', 'DRB', 'TRB', 'AST', 'STL', 'BLK',\n",
       "       'TOV', 'PF', 'PTS', 'TotalMinutes', 'PER', 'TS%', '3PAr', 'FTr', 'ORB%',\n",
       "       'DRB%', 'TRB%', 'AST%', 'STL%', 'BLK%', 'TOV%', 'USG%', 'OWS', 'DWS',\n",
       "       'WS', 'WS/48', 'OBPM', 'DBPM', 'BPM', 'VORP'],\n",
       "      dtype='object')"
      ]
     },
     "execution_count": 8,
     "metadata": {},
     "output_type": "execute_result"
    }
   ],
   "source": [
    "# see all the column names\n",
    "nba_df.columns"
   ]
  },
  {
   "cell_type": "markdown",
   "metadata": {},
   "source": [
    "### Handling our missing data"
   ]
  },
  {
   "cell_type": "code",
   "execution_count": 9,
   "metadata": {},
   "outputs": [
    {
     "data": {
      "text/html": [
       "<div>\n",
       "<style scoped>\n",
       "    .dataframe tbody tr th:only-of-type {\n",
       "        vertical-align: middle;\n",
       "    }\n",
       "\n",
       "    .dataframe tbody tr th {\n",
       "        vertical-align: top;\n",
       "    }\n",
       "\n",
       "    .dataframe thead th {\n",
       "        text-align: right;\n",
       "    }\n",
       "</style>\n",
       "<table border=\"1\" class=\"dataframe\">\n",
       "  <thead>\n",
       "    <tr style=\"text-align: right;\">\n",
       "      <th></th>\n",
       "      <th>Total Missing</th>\n",
       "      <th>Percent Missing</th>\n",
       "    </tr>\n",
       "  </thead>\n",
       "  <tbody>\n",
       "    <tr>\n",
       "      <th>FT%</th>\n",
       "      <td>23</td>\n",
       "      <td>0.049251</td>\n",
       "    </tr>\n",
       "    <tr>\n",
       "      <th>3P%</th>\n",
       "      <td>13</td>\n",
       "      <td>0.027837</td>\n",
       "    </tr>\n",
       "    <tr>\n",
       "      <th>2P%</th>\n",
       "      <td>4</td>\n",
       "      <td>0.008565</td>\n",
       "    </tr>\n",
       "    <tr>\n",
       "      <th>TS%</th>\n",
       "      <td>1</td>\n",
       "      <td>0.002141</td>\n",
       "    </tr>\n",
       "    <tr>\n",
       "      <th>3PAr</th>\n",
       "      <td>1</td>\n",
       "      <td>0.002141</td>\n",
       "    </tr>\n",
       "    <tr>\n",
       "      <th>FTr</th>\n",
       "      <td>1</td>\n",
       "      <td>0.002141</td>\n",
       "    </tr>\n",
       "    <tr>\n",
       "      <th>eFG%</th>\n",
       "      <td>1</td>\n",
       "      <td>0.002141</td>\n",
       "    </tr>\n",
       "    <tr>\n",
       "      <th>FG%</th>\n",
       "      <td>1</td>\n",
       "      <td>0.002141</td>\n",
       "    </tr>\n",
       "  </tbody>\n",
       "</table>\n",
       "</div>"
      ],
      "text/plain": [
       "      Total Missing  Percent Missing\n",
       "FT%              23         0.049251\n",
       "3P%              13         0.027837\n",
       "2P%               4         0.008565\n",
       "TS%               1         0.002141\n",
       "3PAr              1         0.002141\n",
       "FTr               1         0.002141\n",
       "eFG%              1         0.002141\n",
       "FG%               1         0.002141"
      ]
     },
     "execution_count": 9,
     "metadata": {},
     "output_type": "execute_result"
    }
   ],
   "source": [
    "# display the missing data and its percent of the column\n",
    "total_missing = nba_df.isnull().sum().sort_values(ascending=False)\n",
    "percent_missing = (nba_df.isnull().sum() / nba_df.isnull().count()).sort_values(ascending=False)\n",
    "\n",
    "missing_data_df = pd.concat([total_missing, percent_missing], axis=1, keys=[\"Total Missing\", \"Percent Missing\"])\n",
    "missing_data_df.head(8)"
   ]
  },
  {
   "cell_type": "code",
   "execution_count": 10,
   "metadata": {},
   "outputs": [
    {
     "data": {
      "text/html": [
       "<div>\n",
       "<style scoped>\n",
       "    .dataframe tbody tr th:only-of-type {\n",
       "        vertical-align: middle;\n",
       "    }\n",
       "\n",
       "    .dataframe tbody tr th {\n",
       "        vertical-align: top;\n",
       "    }\n",
       "\n",
       "    .dataframe thead th {\n",
       "        text-align: right;\n",
       "    }\n",
       "</style>\n",
       "<table border=\"1\" class=\"dataframe\">\n",
       "  <thead>\n",
       "    <tr style=\"text-align: right;\">\n",
       "      <th></th>\n",
       "      <th>Id</th>\n",
       "      <th>PlayerName</th>\n",
       "      <th>Salary</th>\n",
       "      <th>Position</th>\n",
       "      <th>Age</th>\n",
       "      <th>Team</th>\n",
       "      <th>GP</th>\n",
       "      <th>GS</th>\n",
       "      <th>MP</th>\n",
       "      <th>FG</th>\n",
       "      <th>FGA</th>\n",
       "      <th>FG%</th>\n",
       "      <th>3P</th>\n",
       "      <th>3PA</th>\n",
       "      <th>3P%</th>\n",
       "      <th>2P</th>\n",
       "      <th>2PA</th>\n",
       "      <th>2P%</th>\n",
       "      <th>eFG%</th>\n",
       "      <th>FT</th>\n",
       "      <th>FTA</th>\n",
       "      <th>FT%</th>\n",
       "      <th>ORB</th>\n",
       "      <th>DRB</th>\n",
       "      <th>TRB</th>\n",
       "      <th>AST</th>\n",
       "      <th>STL</th>\n",
       "      <th>BLK</th>\n",
       "      <th>TOV</th>\n",
       "      <th>PF</th>\n",
       "      <th>PTS</th>\n",
       "      <th>TotalMinutes</th>\n",
       "      <th>PER</th>\n",
       "      <th>TS%</th>\n",
       "      <th>3PAr</th>\n",
       "      <th>FTr</th>\n",
       "      <th>ORB%</th>\n",
       "      <th>DRB%</th>\n",
       "      <th>TRB%</th>\n",
       "      <th>AST%</th>\n",
       "      <th>STL%</th>\n",
       "      <th>BLK%</th>\n",
       "      <th>TOV%</th>\n",
       "      <th>USG%</th>\n",
       "      <th>OWS</th>\n",
       "      <th>DWS</th>\n",
       "      <th>WS</th>\n",
       "      <th>WS/48</th>\n",
       "      <th>OBPM</th>\n",
       "      <th>DBPM</th>\n",
       "      <th>BPM</th>\n",
       "      <th>VORP</th>\n",
       "    </tr>\n",
       "  </thead>\n",
       "  <tbody>\n",
       "    <tr>\n",
       "      <th>436</th>\n",
       "      <td>436</td>\n",
       "      <td>Alondes Williams</td>\n",
       "      <td>254446</td>\n",
       "      <td>SG</td>\n",
       "      <td>23</td>\n",
       "      <td>BRK</td>\n",
       "      <td>1</td>\n",
       "      <td>0</td>\n",
       "      <td>5.0</td>\n",
       "      <td>0.0</td>\n",
       "      <td>0.0</td>\n",
       "      <td>NaN</td>\n",
       "      <td>0.0</td>\n",
       "      <td>0.0</td>\n",
       "      <td>NaN</td>\n",
       "      <td>0.0</td>\n",
       "      <td>0.0</td>\n",
       "      <td>NaN</td>\n",
       "      <td>NaN</td>\n",
       "      <td>0.0</td>\n",
       "      <td>0.0</td>\n",
       "      <td>NaN</td>\n",
       "      <td>0.0</td>\n",
       "      <td>1.0</td>\n",
       "      <td>1.0</td>\n",
       "      <td>0.0</td>\n",
       "      <td>0.0</td>\n",
       "      <td>0.0</td>\n",
       "      <td>2.0</td>\n",
       "      <td>1.0</td>\n",
       "      <td>0.0</td>\n",
       "      <td>5</td>\n",
       "      <td>-20.9</td>\n",
       "      <td>NaN</td>\n",
       "      <td>NaN</td>\n",
       "      <td>NaN</td>\n",
       "      <td>0.0</td>\n",
       "      <td>22.0</td>\n",
       "      <td>11.2</td>\n",
       "      <td>0.0</td>\n",
       "      <td>0.0</td>\n",
       "      <td>0.0</td>\n",
       "      <td>100.0</td>\n",
       "      <td>17.7</td>\n",
       "      <td>-0.1</td>\n",
       "      <td>0.0</td>\n",
       "      <td>-0.1</td>\n",
       "      <td>-0.517</td>\n",
       "      <td>-21.3</td>\n",
       "      <td>-5.2</td>\n",
       "      <td>-26.5</td>\n",
       "      <td>0.0</td>\n",
       "    </tr>\n",
       "  </tbody>\n",
       "</table>\n",
       "</div>"
      ],
      "text/plain": [
       "      Id        PlayerName  Salary Position  Age Team  GP  GS   MP   FG  FGA  \\\n",
       "436  436  Alondes Williams  254446       SG   23  BRK   1   0  5.0  0.0  0.0   \n",
       "\n",
       "     FG%   3P  3PA  3P%   2P  2PA  2P%  eFG%   FT  FTA  FT%  ORB  DRB  TRB  \\\n",
       "436  NaN  0.0  0.0  NaN  0.0  0.0  NaN   NaN  0.0  0.0  NaN  0.0  1.0  1.0   \n",
       "\n",
       "     AST  STL  BLK  TOV   PF  PTS  TotalMinutes   PER  TS%  3PAr  FTr  ORB%  \\\n",
       "436  0.0  0.0  0.0  2.0  1.0  0.0             5 -20.9  NaN   NaN  NaN   0.0   \n",
       "\n",
       "     DRB%  TRB%  AST%  STL%  BLK%   TOV%  USG%  OWS  DWS   WS  WS/48  OBPM  \\\n",
       "436  22.0  11.2   0.0   0.0   0.0  100.0  17.7 -0.1  0.0 -0.1 -0.517 -21.3   \n",
       "\n",
       "     DBPM   BPM  VORP  \n",
       "436  -5.2 -26.5   0.0  "
      ]
     },
     "execution_count": 10,
     "metadata": {},
     "output_type": "execute_result"
    }
   ],
   "source": [
    "# example row of a player who has missing data\n",
    "# players with missing data are those who did not play many games so they never accumilated that stat during the season\n",
    "null_fg = nba_df[nba_df['FG%'].isnull()]\n",
    "null_fg"
   ]
  },
  {
   "cell_type": "code",
   "execution_count": 11,
   "metadata": {},
   "outputs": [
    {
     "data": {
      "image/png": "[encoded data removed]",
      "text/plain": [
       "<Figure size 2000x1000 with 1 Axes>"
      ]
     },
     "metadata": {},
     "output_type": "display_data"
    }
   ],
   "source": [
    "# visualize this in a bar graph\n",
    "missing_data_df[\"Percent Missing\"].head(8).plot(\n",
    "    kind=\"barh\", figsize=(20,10)\n",
    ").invert_yaxis()\n",
    "plt.xlabel(\"Percent Missing\")\n",
    "plt.ylabel(\"Variable\")\n",
    "plt.title(\"The 8 Columns and their Percent of Missing Data\")\n",
    "plt.show()"
   ]
  },
  {
   "cell_type": "code",
   "execution_count": 12,
   "metadata": {},
   "outputs": [],
   "source": [
    "# fill in the missing data with 0s\n",
    "# data is \"missing\" because player never recorded that stat during the season so we impute that data to be 0 to identify them in our model\n",
    "cols_to_fill_zero = [\n",
    "    \"FT%\",\n",
    "    \"3P%\",\n",
    "    \"2P%\",\n",
    "    \"TS%\",\n",
    "    \"3PAr\",\n",
    "    \"FTr\",\n",
    "    \"eFG%\",\n",
    "    \"FG%\",\n",
    "]\n",
    "\n",
    "for col in cols_to_fill_zero:\n",
    "    nba_df[col] = nba_df[col].fillna(0)\n"
   ]
  },
  {
   "cell_type": "code",
   "execution_count": 13,
   "metadata": {},
   "outputs": [
    {
     "data": {
      "text/html": [
       "<div>\n",
       "<style scoped>\n",
       "    .dataframe tbody tr th:only-of-type {\n",
       "        vertical-align: middle;\n",
       "    }\n",
       "\n",
       "    .dataframe tbody tr th {\n",
       "        vertical-align: top;\n",
       "    }\n",
       "\n",
       "    .dataframe thead th {\n",
       "        text-align: right;\n",
       "    }\n",
       "</style>\n",
       "<table border=\"1\" class=\"dataframe\">\n",
       "  <thead>\n",
       "    <tr style=\"text-align: right;\">\n",
       "      <th></th>\n",
       "      <th>Id</th>\n",
       "      <th>PlayerName</th>\n",
       "      <th>Salary</th>\n",
       "      <th>Position</th>\n",
       "      <th>Age</th>\n",
       "      <th>Team</th>\n",
       "      <th>GP</th>\n",
       "      <th>GS</th>\n",
       "      <th>MP</th>\n",
       "      <th>FG</th>\n",
       "      <th>FGA</th>\n",
       "      <th>FG%</th>\n",
       "      <th>3P</th>\n",
       "      <th>3PA</th>\n",
       "      <th>3P%</th>\n",
       "      <th>2P</th>\n",
       "      <th>2PA</th>\n",
       "      <th>2P%</th>\n",
       "      <th>eFG%</th>\n",
       "      <th>FT</th>\n",
       "      <th>FTA</th>\n",
       "      <th>FT%</th>\n",
       "      <th>ORB</th>\n",
       "      <th>DRB</th>\n",
       "      <th>TRB</th>\n",
       "      <th>AST</th>\n",
       "      <th>STL</th>\n",
       "      <th>BLK</th>\n",
       "      <th>TOV</th>\n",
       "      <th>PF</th>\n",
       "      <th>PTS</th>\n",
       "      <th>TotalMinutes</th>\n",
       "      <th>PER</th>\n",
       "      <th>TS%</th>\n",
       "      <th>3PAr</th>\n",
       "      <th>FTr</th>\n",
       "      <th>ORB%</th>\n",
       "      <th>DRB%</th>\n",
       "      <th>TRB%</th>\n",
       "      <th>AST%</th>\n",
       "      <th>STL%</th>\n",
       "      <th>BLK%</th>\n",
       "      <th>TOV%</th>\n",
       "      <th>USG%</th>\n",
       "      <th>OWS</th>\n",
       "      <th>DWS</th>\n",
       "      <th>WS</th>\n",
       "      <th>WS/48</th>\n",
       "      <th>OBPM</th>\n",
       "      <th>DBPM</th>\n",
       "      <th>BPM</th>\n",
       "      <th>VORP</th>\n",
       "    </tr>\n",
       "  </thead>\n",
       "  <tbody>\n",
       "    <tr>\n",
       "      <th>436</th>\n",
       "      <td>436</td>\n",
       "      <td>Alondes Williams</td>\n",
       "      <td>254446</td>\n",
       "      <td>SG</td>\n",
       "      <td>23</td>\n",
       "      <td>BRK</td>\n",
       "      <td>1</td>\n",
       "      <td>0</td>\n",
       "      <td>5.0</td>\n",
       "      <td>0.0</td>\n",
       "      <td>0.0</td>\n",
       "      <td>0.0</td>\n",
       "      <td>0.0</td>\n",
       "      <td>0.0</td>\n",
       "      <td>0.0</td>\n",
       "      <td>0.0</td>\n",
       "      <td>0.0</td>\n",
       "      <td>0.0</td>\n",
       "      <td>0.0</td>\n",
       "      <td>0.0</td>\n",
       "      <td>0.0</td>\n",
       "      <td>0.0</td>\n",
       "      <td>0.0</td>\n",
       "      <td>1.0</td>\n",
       "      <td>1.0</td>\n",
       "      <td>0.0</td>\n",
       "      <td>0.0</td>\n",
       "      <td>0.0</td>\n",
       "      <td>2.0</td>\n",
       "      <td>1.0</td>\n",
       "      <td>0.0</td>\n",
       "      <td>5</td>\n",
       "      <td>-20.9</td>\n",
       "      <td>0.0</td>\n",
       "      <td>0.0</td>\n",
       "      <td>0.0</td>\n",
       "      <td>0.0</td>\n",
       "      <td>22.0</td>\n",
       "      <td>11.2</td>\n",
       "      <td>0.0</td>\n",
       "      <td>0.0</td>\n",
       "      <td>0.0</td>\n",
       "      <td>100.0</td>\n",
       "      <td>17.7</td>\n",
       "      <td>-0.1</td>\n",
       "      <td>0.0</td>\n",
       "      <td>-0.1</td>\n",
       "      <td>-0.517</td>\n",
       "      <td>-21.3</td>\n",
       "      <td>-5.2</td>\n",
       "      <td>-26.5</td>\n",
       "      <td>0.0</td>\n",
       "    </tr>\n",
       "  </tbody>\n",
       "</table>\n",
       "</div>"
      ],
      "text/plain": [
       "      Id        PlayerName  Salary Position  Age Team  GP  GS   MP   FG  FGA  \\\n",
       "436  436  Alondes Williams  254446       SG   23  BRK   1   0  5.0  0.0  0.0   \n",
       "\n",
       "     FG%   3P  3PA  3P%   2P  2PA  2P%  eFG%   FT  FTA  FT%  ORB  DRB  TRB  \\\n",
       "436  0.0  0.0  0.0  0.0  0.0  0.0  0.0   0.0  0.0  0.0  0.0  0.0  1.0  1.0   \n",
       "\n",
       "     AST  STL  BLK  TOV   PF  PTS  TotalMinutes   PER  TS%  3PAr  FTr  ORB%  \\\n",
       "436  0.0  0.0  0.0  2.0  1.0  0.0             5 -20.9  0.0   0.0  0.0   0.0   \n",
       "\n",
       "     DRB%  TRB%  AST%  STL%  BLK%   TOV%  USG%  OWS  DWS   WS  WS/48  OBPM  \\\n",
       "436  22.0  11.2   0.0   0.0   0.0  100.0  17.7 -0.1  0.0 -0.1 -0.517 -21.3   \n",
       "\n",
       "     DBPM   BPM  VORP  \n",
       "436  -5.2 -26.5   0.0  "
      ]
     },
     "execution_count": 13,
     "metadata": {},
     "output_type": "execute_result"
    }
   ],
   "source": [
    "# show same player who had null values now has zeros in those fields\n",
    "imputed_row = nba_df[nba_df[\"PlayerName\"] == \"Alondes Williams\"]\n",
    "imputed_row"
   ]
  },
  {
   "cell_type": "markdown",
   "metadata": {},
   "source": [
    "### Handling outliers for better training"
   ]
  },
  {
   "cell_type": "code",
   "execution_count": 14,
   "metadata": {},
   "outputs": [
    {
     "data": {
      "image/png": "[encoded data removed]",
      "text/plain": [
       "<Figure size 640x480 with 1 Axes>"
      ]
     },
     "metadata": {},
     "output_type": "display_data"
    }
   ],
   "source": [
    "fig, ax = plt.subplots()\n",
    "ax.scatter(x=nba_df[\"GP\"], y=nba_df[\"Salary\"])\n",
    "plt.ylabel(\"Salary\", fontsize=13)\n",
    "plt.xlabel(\"GP (Games Played)\", fontsize=13)\n",
    "plt.show()"
   ]
  },
  {
   "cell_type": "markdown",
   "metadata": {},
   "source": [
    "There seem to be some outliers where players did not play the majority of the season, yet were given large salaries. This is likely due to season ending injuries. Additionally, there are players present in the data set that were on 10-day contracts. For this reason, we will remove data from players who played in less than 20 games."
   ]
  },
  {
   "cell_type": "code",
   "execution_count": 15,
   "metadata": {},
   "outputs": [],
   "source": [
    "# drop less than 20 games\n",
    "nba_df = nba_df[nba_df['GP'] >= 20]"
   ]
  },
  {
   "cell_type": "markdown",
   "metadata": {},
   "source": [
    "### Normalize"
   ]
  },
  {
   "cell_type": "code",
   "execution_count": 16,
   "metadata": {},
   "outputs": [
    {
     "name": "stdout",
     "output_type": "stream",
     "text": [
      "\n",
      " mu = 9990402.62 and sigma = 11134520.23\n",
      "\n"
     ]
    },
    {
     "data": {
      "image/png": "[encoded data removed]",
      "text/plain": [
       "<Figure size 640x480 with 1 Axes>"
      ]
     },
     "metadata": {},
     "output_type": "display_data"
    },
    {
     "data": {
      "image/png": "[encoded data removed]",
      "text/plain": [
       "<Figure size 640x480 with 1 Axes>"
      ]
     },
     "metadata": {},
     "output_type": "display_data"
    }
   ],
   "source": [
    "sns.distplot(nba_df[\"Salary\"], fit=norm)\n",
    "\n",
    "# Get the fitted parameters used by the function\n",
    "(mu, sigma) = norm.fit(nba_df[\"Salary\"])\n",
    "print(\"\\n mu = {:.2f} and sigma = {:.2f}\\n\".format(mu, sigma))\n",
    "\n",
    "# Now plot the distribution\n",
    "plt.legend(\n",
    "    [\"Normal dist. ($\\mu=$ {:.2f} and $\\sigma=$ {:.2f} )\".format(mu, sigma)], loc=\"best\"\n",
    ")\n",
    "plt.ylabel(\"Frequency\")\n",
    "plt.title(\"Salary distribution\")\n",
    "\n",
    "# Get also the QQ-plot\n",
    "fig = plt.figure()\n",
    "res = probplot(nba_df[\"Salary\"], plot=plt)\n",
    "plt.show()"
   ]
  },
  {
   "cell_type": "code",
   "execution_count": 17,
   "metadata": {},
   "outputs": [
    {
     "name": "stdout",
     "output_type": "stream",
     "text": [
      "\n",
      " mu = 15.54 and sigma = 1.09\n",
      "\n"
     ]
    },
    {
     "data": {
      "image/png": "[encoded data removed]",
      "text/plain": [
       "<Figure size 640x480 with 1 Axes>"
      ]
     },
     "metadata": {},
     "output_type": "display_data"
    },
    {
     "data": {
      "image/png": "[encoded data removed]",
      "text/plain": [
       "<Figure size 640x480 with 1 Axes>"
      ]
     },
     "metadata": {},
     "output_type": "display_data"
    }
   ],
   "source": [
    "# We use the numpy fuction log1p which  applies log(1+x) to all elements of the column\n",
    "nba_df[\"Salary_normalized\"] = np.log1p(nba_df[\"Salary\"])\n",
    "\n",
    "# Check the new distribution\n",
    "sns.distplot(nba_df[\"Salary_normalized\"], fit=norm)\n",
    "\n",
    "# Get the fitted parameters used by the function\n",
    "(mu, sigma) = norm.fit(nba_df[\"Salary_normalized\"])\n",
    "print(\"\\n mu = {:.2f} and sigma = {:.2f}\\n\".format(mu, sigma))\n",
    "\n",
    "# Now plot the distribution\n",
    "plt.legend(\n",
    "    [\"Normal dist. ($\\mu=$ {:.2f} and $\\sigma=$ {:.2f} )\".format(mu, sigma)], loc=\"best\"\n",
    ")\n",
    "plt.ylabel(\"Frequency\")\n",
    "plt.title(\"Salary distribution\")\n",
    "\n",
    "# Get also the QQ-plot\n",
    "fig = plt.figure()\n",
    "res = probplot(nba_df[\"Salary_normalized\"], plot=plt)\n",
    "plt.show()"
   ]
  },
  {
   "cell_type": "markdown",
   "metadata": {},
   "source": [
    "## Data Analysis and Visualization"
   ]
  },
  {
   "cell_type": "code",
   "execution_count": 18,
   "metadata": {},
   "outputs": [],
   "source": [
    "# scatterplot\n",
    "sns.set()\n",
    "cols = [\n",
    "    \"Salary_normalized\",\n",
    "    \"Age\",\n",
    "    \"MP\",\n",
    "    \"3P\",\n",
    "    \"TRB\",\n",
    "    \"AST\",\n",
    "    \"PTS\",\n",
    "    \"PER\",\n",
    "    \"TS%\",\n",
    "    \"DWS\",\n",
    "    \"VORP\"\n",
    "]\n",
    "sns.pairplot(nba_df[cols], size=2.5)\n",
    "plt.show();"
   ]
  },
  {
   "cell_type": "code",
   "execution_count": null,
   "metadata": {},
   "outputs": [],
   "source": [
    "# Exclude non-numeric columns\n",
    "numeric_df = nba_df.select_dtypes(include=[np.number])\n",
    "corrmat = numeric_df.corr()\n",
    "\n",
    "f, ax = plt.subplots(figsize=(15, 12))\n",
    "sns.heatmap(corrmat, vmax=0.8, square=True);"
   ]
  },
  {
   "cell_type": "code",
   "execution_count": null,
   "metadata": {},
   "outputs": [],
   "source": [
    "salary_correlations = corrmat['Salary_normalized']\n",
    "print(salary_correlations.sort_values(ascending=False))"
   ]
  },
  {
   "cell_type": "code",
   "execution_count": null,
   "metadata": {},
   "outputs": [],
   "source": [
    "# Visualize number of players at each position by age\n",
    "\n",
    "plt.figure(figsize=(20,4))\n",
    "sns.set_style('whitegrid')\n",
    "sns.countplot(x='Age',hue='Position', data=nba_df, palette='viridis');"
   ]
  },
  {
   "cell_type": "markdown",
   "metadata": {},
   "source": [
    "#### Target Variable Visualizations"
   ]
  },
  {
   "cell_type": "code",
   "execution_count": null,
   "metadata": {},
   "outputs": [],
   "source": [
    "# boxplot to visualize the spread of salaries by each position\n",
    "sns.boxplot(x='Position', y='Salary_normalized', data=nba_df, palette='rainbow');"
   ]
  },
  {
   "cell_type": "code",
   "execution_count": null,
   "metadata": {},
   "outputs": [],
   "source": [
    "# plot to show correclation between points and salaries by position as well\n",
    "# points has the highest positive correlation to salary as seen above\n",
    "sns.lmplot(y='Salary', x='PTS', data=nba_df, hue='Position', palette='Set1');"
   ]
  },
  {
   "cell_type": "markdown",
   "metadata": {},
   "source": [
    "Now lets compare Salary to VORP.\n",
    "VORP is a box score estimate of the points per 100 team possessions that a player contributes above a replacement level player, translated to an average team and proportional to an 82 game season."
   ]
  },
  {
   "cell_type": "code",
   "execution_count": null,
   "metadata": {},
   "outputs": [],
   "source": [
    "sns.jointplot(x='VORP',y='Salary_normalized',data=nba_df,color='purple');"
   ]
  },
  {
   "cell_type": "markdown",
   "metadata": {},
   "source": [
    "Now lets compare Salary to a defensive advanced statistic like DWS.\n",
    "DWS stands for Defensive Win Shares, which is a metric in the NBA that compares a player's defensive rating to the league average."
   ]
  },
  {
   "cell_type": "code",
   "execution_count": null,
   "metadata": {},
   "outputs": [],
   "source": [
    "plt.figure(figsize=(12, 8))\n",
    "sns.scatterplot(x='DWS', y='Salary_normalized', data=nba_df, hue='Position', palette='viridis', alpha=0.6);"
   ]
  },
  {
   "cell_type": "markdown",
   "metadata": {},
   "source": [
    "#### Encode categorical varibales"
   ]
  },
  {
   "cell_type": "markdown",
   "metadata": {},
   "source": [
    "We will not be using the columns, PlayerName, Team, or Position, in our predictive model, as they have little to no correlation to Salary. Thus, we will bypass encoding this data to simplify data management."
   ]
  },
  {
   "cell_type": "markdown",
   "metadata": {},
   "source": [
    "#### Feature Selection"
   ]
  },
  {
   "cell_type": "markdown",
   "metadata": {},
   "source": [
    "#### Step 1: Remove Highly Correlated Features\n",
    "First, we calculate the correlation matrix to identify pairs of features that are highly correlated (correlation coefficient > 0.95). Highly correlated features can introduce multicollinearity, which negatively impacts model performance. We keep only one feature from each pair of highly correlated features to avoid redundancy."
   ]
  },
  {
   "cell_type": "code",
   "execution_count": null,
   "metadata": {},
   "outputs": [],
   "source": [
    "from sklearn.feature_selection import SelectFromModel\n",
    "from sklearn.linear_model import LassoCV\n",
    "\n",
    "# Identify the columns to exclude from feature selection\n",
    "exclude_columns = ['Id', 'Salary', 'Salary_normalized']\n",
    "\n",
    "# Get the numerical columns excluding the columns to exclude\n",
    "numeric_columns = [col for col in numeric_df.columns if col not in exclude_columns]\n",
    "\n",
    "# Create a new correlation matrix with only the relevant columns\n",
    "corrmat_filtered = corrmat.loc[numeric_columns, numeric_columns]\n",
    "\n",
    "# Find highly correlated features\n",
    "corr_threshold = 0.95\n",
    "correlated_features = set()\n",
    "\n",
    "# Get the absolute correlation of each feature with 'Salary_normalized'\n",
    "salary_corr = abs(corrmat['Salary_normalized'][numeric_columns])\n",
    "\n",
    "# Iterate over the features\n",
    "for feature in corrmat_filtered.columns:\n",
    "    if feature not in correlated_features:\n",
    "        \n",
    "        # Find highly correlated features with the current feature\n",
    "        correlated_cols = corrmat_filtered.columns[(abs(corrmat_filtered[feature]) > corr_threshold) & (corrmat_filtered.columns != feature)]\n",
    "        \n",
    "        # append correlated features to be removed\n",
    "        correlated_features.update(correlated_cols)\n",
    "        \n",
    "# Drop the correlated features from nba_df\n",
    "print(\"Removing features from nba_df:\\n\", correlated_features)\n",
    "nba_df = nba_df.drop(columns=correlated_features)\n",
    "numeric_df = numeric_df.drop(columns=correlated_features)\n",
    "nba_df.head()\n"
   ]
  },
  {
   "cell_type": "markdown",
   "metadata": {},
   "source": [
    "#### Step 2: Encoding Categorical Features\n",
    "Next, we will encode categorical features so that our supervised model can use them for predicitons. These features are Position and Team. The position and team are likely influential on a player's salary but are represented by strings in our dataset. We will label encoding because the values of these features are within a limited range. This will give each team and position a unique numerical marker."
   ]
  },
  {
   "cell_type": "code",
   "execution_count": null,
   "metadata": {},
   "outputs": [],
   "source": [
    "from sklearn.preprocessing import LabelEncoder\n",
    "\n",
    "# Create label encoders\n",
    "position_encoder = LabelEncoder()\n",
    "team_encoder = LabelEncoder()\n",
    "\n",
    "# Perform label encoding for 'Position' and 'Team' variables\n",
    "nba_df['Position_encoded'] = position_encoder.fit_transform(nba_df['Position'])\n",
    "nba_df['Team_encoded'] = team_encoder.fit_transform(nba_df['Team'])\n",
    "\n",
    "# Drop the original 'Position' and 'Team' columns\n",
    "nba_df.drop(['Position', 'Team'], axis=1, inplace=True)\n",
    "nba_df.head()\n"
   ]
  },
  {
   "cell_type": "code",
   "execution_count": null,
   "metadata": {},
   "outputs": [],
   "source": [
    "# # LASSO Regression for additional feature selection\n",
    "# lasso = LassoCV()\n",
    "# lasso.fit(numeric_df_filtered, nba_df['Salary_normalized'])\n",
    "\n",
    "# # Use SelectFromModel to get selected features based on LASSO coefficients\n",
    "# sfm = SelectFromModel(lasso, prefit=True)\n",
    "# selected_features_lasso = numeric_df_filtered.columns[sfm.get_support()]\n",
    "\n",
    "# # Convert to a DataFrame if needed\n",
    "# selected_features_df = pd.DataFrame(list(selected_features_lasso), columns=['Selected_Features'])\n",
    "\n",
    "# selected_features_df"
   ]
  },
  {
   "cell_type": "markdown",
   "metadata": {},
   "source": [
    "#### Significance\n",
    "By combining correlation-based feature removal with Lasso regression, we ensure that our model is trained on the most relevant features, improving its predictive power and robustness. This process is significant for predicting NBA salaries because it allows the model to focus on the key factors that truly influence player salaries, leading to more accurate and reliable predictions."
   ]
  },
  {
   "cell_type": "code",
   "execution_count": null,
   "metadata": {},
   "outputs": [],
   "source": [
    "# identify skewness\n",
    "skewed_feats = (\n",
    "    numeric_df\n",
    "    .apply(lambda x: skew(x.dropna()))\n",
    "    .sort_values(ascending=False)\n",
    ")\n",
    "print(\"\\nSkew in numerical features: \\n\")\n",
    "skewness = pd.DataFrame({\"Skew\": skewed_feats})\n",
    "skewness.head(20)"
   ]
  },
  {
   "cell_type": "code",
   "execution_count": null,
   "metadata": {},
   "outputs": [],
   "source": [
    "skewness[\"Skew\"].head(10).plot(\n",
    "    kind=\"barh\", figsize=(20, 10)\n",
    ").invert_yaxis()  # top 10 skewed columns\n",
    "plt.xlabel(\"Skew\")\n",
    "plt.ylabel(\"Variable Name\")\n",
    "plt.title(\"Top 10 Skewed Variables\")\n",
    "plt.show()"
   ]
  },
  {
   "cell_type": "code",
   "execution_count": null,
   "metadata": {},
   "outputs": [],
   "source": [
    "skewness = skewness[abs(skewness) > 0.75]\n",
    "print(\n",
    "    \"There are {} skewed numerical features to Box Cox transform (normalize)\".format(\n",
    "        skewness.shape[0]\n",
    "    )\n",
    ")"
   ]
  },
  {
   "cell_type": "code",
   "execution_count": null,
   "metadata": {},
   "outputs": [],
   "source": [
    "negative_value_columns = numeric_df.columns[(numeric_df < 0).any()]\n",
    "\n",
    "# Print the list of column names\n",
    "print(\"Columns with negative values:\")\n",
    "print(negative_value_columns.tolist())\n"
   ]
  },
  {
   "cell_type": "code",
   "execution_count": null,
   "metadata": {},
   "outputs": [],
   "source": [
    "skewed_features = skewness.index\n",
    "lam = 0.15\n",
    "for feat in skewed_features:\n",
    "    # skip over columns that don't need transformation\n",
    "    # skip over columns that have negative values so that they don't become NULL when transforming\n",
    "    if feat not in [\n",
    "        \"Id\",\n",
    "        \"Salary\",\n",
    "        \"Salary_normalized\",\n",
    "        'OWS', \n",
    "        'WS', \n",
    "        'WS/48', \n",
    "        'OBPM', \n",
    "        'DBPM', \n",
    "        'BPM', \n",
    "        'VORP'\n",
    "    ]:\n",
    "        nba_df[feat] = boxcox1p(nba_df[feat], lam)"
   ]
  },
  {
   "cell_type": "code",
   "execution_count": null,
   "metadata": {},
   "outputs": [],
   "source": [
    "# check that the box cot did not add any NULL values\n",
    "null_columns = nba_df.columns[nba_df.isnull().any()]\n",
    "null_count = nba_df[null_columns].isnull().sum()\n",
    "\n",
    "print(\"Column Name: NULL Count\")\n",
    "for i in range(0, len(null_columns)):\n",
    "    print(f\"{null_columns[i]}: {null_count[i]}\")"
   ]
  },
  {
   "cell_type": "markdown",
   "metadata": {},
   "source": [
    "## Data Analytics"
   ]
  },
  {
   "cell_type": "markdown",
   "metadata": {},
   "source": [
    "All of our data is labled therefore we will be implementing supervised learning methods"
   ]
  },
  {
   "cell_type": "code",
   "execution_count": null,
   "metadata": {},
   "outputs": [],
   "source": [
    "from sklearn.linear_model import ElasticNet\n",
    "from sklearn.ensemble import RandomForestRegressor\n",
    "from sklearn.linear_model import LinearRegression\n",
    "from sklearn.model_selection import train_test_split, cross_val_score, KFold\n",
    "from sklearn.metrics import mean_squared_error\n",
    "from sklearn.tree import DecisionTreeRegressor\n",
    "from sklearn.neighbors import KNeighborsRegressor\n",
    "import xgboost as xgb\n",
    "import lightgbm as lgb\n",
    "from skopt import BayesSearchCV"
   ]
  },
  {
   "cell_type": "code",
   "execution_count": null,
   "metadata": {},
   "outputs": [],
   "source": [
    "def train_and_compute_rmse(df, model):\n",
    "    # Splitting the data into train and test set  \n",
    "    X = df.drop(columns=['Salary', 'Id', 'PlayerName', 'Salary_normalized'])\n",
    "    y = df['Salary']\n",
    "    X_train, X_test, y_train, y_test = train_test_split(X, y, test_size=0.2)\n",
    "\n",
    "    # Training the model\n",
    "    model.fit(X_train, np.log1p(y_train))\n",
    "    \n",
    "    # Making predictions on the test set\n",
    "    y_pred_log = model.predict(X_test)\n",
    "    y_pred = np.expm1(y_pred_log)\n",
    "\n",
    "    if (\n",
    "            np.isnan(y_pred).any()\n",
    "            or np.isinf(y_pred).any()\n",
    "        ):\n",
    "            print(\n",
    "                f\"Warning: NaN or infinity values found in predictions or true values. Imputing 0 for problematic values in y_pred.\"\n",
    "            )\n",
    "            y_pred[np.isnan(y_pred) | np.isinf(y_pred)] = 0\n",
    "\n",
    "    # Computing RMSE\n",
    "    rmse = np.sqrt(mean_squared_error(y_test, y_pred))\n",
    "    \n",
    "    return rmse"
   ]
  },
  {
   "cell_type": "code",
   "execution_count": null,
   "metadata": {},
   "outputs": [],
   "source": [
    "def compute_rmse_std(df, model):\n",
    "    rmse_list = []\n",
    "    for i in range(30):\n",
    "        rmse_list.append(train_and_compute_rmse(df, model))\n",
    "\n",
    "    mean = np.mean(rmse_list)\n",
    "    std = np.std(rmse_list)\n",
    "\n",
    "    return mean, std"
   ]
  },
  {
   "cell_type": "code",
   "execution_count": null,
   "metadata": {},
   "outputs": [],
   "source": [
    "lr_w_int = LinearRegression()\n",
    "lr_no_int = LinearRegression(fit_intercept=False)\n",
    "elastic_net = ElasticNet(alpha=0.01, l1_ratio=0.1)"
   ]
  },
  {
   "cell_type": "code",
   "execution_count": null,
   "metadata": {},
   "outputs": [],
   "source": [
    "neigh = KNeighborsRegressor(n_neighbors=10)"
   ]
  },
  {
   "cell_type": "code",
   "execution_count": null,
   "metadata": {},
   "outputs": [],
   "source": [
    "rf = RandomForestRegressor(n_estimators=500)"
   ]
  },
  {
   "cell_type": "code",
   "execution_count": null,
   "metadata": {},
   "outputs": [],
   "source": [
    "dt = DecisionTreeRegressor(max_depth=10)"
   ]
  },
  {
   "cell_type": "code",
   "execution_count": null,
   "metadata": {},
   "outputs": [],
   "source": [
    "model_xgb = xgb.XGBRegressor(max_depth=5, n_estimators=1000, learning_rate=0.01)"
   ]
  },
  {
   "cell_type": "code",
   "execution_count": null,
   "metadata": {},
   "outputs": [],
   "source": [
    "model_lgb = lgb.LGBMRegressor(max_depth=5, n_estimators=1000, learning_rate=0.01)"
   ]
  },
  {
   "cell_type": "code",
   "execution_count": null,
   "metadata": {},
   "outputs": [],
   "source": [
    "nba_df.head()"
   ]
  },
  {
   "cell_type": "code",
   "execution_count": null,
   "metadata": {},
   "outputs": [],
   "source": [
    "#Get the avg rmse and std over 30 tests for each model\n",
    "lr_no_int_list = compute_rmse_std(nba_df, lr_no_int)\n",
    "lr_w_int_list = compute_rmse_std(nba_df, lr_w_int)\n",
    "elastic_net_list = compute_rmse_std(nba_df, elastic_net)\n",
    "#neigh_list = compute_rmse_std(nba_df, neigh)\n",
    "dt_list = compute_rmse_std(nba_df, dt)\n",
    "rf_list = compute_rmse_std(nba_df, rf)\n",
    "model_xgb_list = compute_rmse_std(nba_df, model_xgb)\n",
    "\n",
    "# plot RMSE and STD for each Algorithm\n",
    "data = {\n",
    "    \"Linear (No Intercept)\": lr_no_int_list,\n",
    "    \"Linear (w/ Intercept)\": lr_w_int_list,\n",
    "    \"Elastic Net\": elastic_net_list,\n",
    "    #\"Nearest Neighbor\": neigh_list,\n",
    "    \"Decision Tree\": dt_list,\n",
    "    \"Random Forest\": rf_list,\n",
    "    \"XGBoost\": model_xgb_list,\n",
    "}\n",
    "data_df = pd.DataFrame(data=data).T.reset_index().sort_values(by=[0], ascending=True)\n",
    "data_df.columns = [\"Algorithm\", \"RMSE\", \"STD\"]"
   ]
  },
  {
   "cell_type": "code",
   "execution_count": null,
   "metadata": {},
   "outputs": [],
   "source": [
    "# creating the bar plot\n",
    "data_df.plot(kind=\"bar\", x=\"Algorithm\", y=[\"RMSE\", \"STD\"], figsize=(20, 10), rot=0)\n",
    "plt.xlabel(\"Algorithm\", fontsize=20)\n",
    "plt.ylabel(\"Root Mean Squared Error / Standard Deviation\", fontsize=20)\n",
    "plt.show()"
   ]
  },
  {
   "cell_type": "code",
   "execution_count": null,
   "metadata": {},
   "outputs": [],
   "source": [
    "def hyperparameter_tune_bayesian(X_train, y_train, regressor):\n",
    "    \"\"\"\n",
    "    Perform hyperparameter tuning for XGBoost or LightGBM using Bayesian search.\n",
    "\n",
    "    Parameters:\n",
    "    - X_train: pandas DataFrame\n",
    "        Training features.\n",
    "    - y_train: pandas Series\n",
    "        Training target variable.\n",
    "    - regressor_type: str\n",
    "        Type of regressor to tune ('xgboost' or 'lightgbm').\n",
    "\n",
    "    Returns:\n",
    "    - best_params: dict\n",
    "        Best hyperparameters found during tuning.\n",
    "    \"\"\"\n",
    "    # Define the common parameter space for both XGBoost and LightGBM\n",
    "    param_space_common = {\n",
    "        \"n_estimators\": (100, 1200),\n",
    "        \"learning_rate\": (0.01, 0.2, \"log-uniform\"),\n",
    "        \"max_depth\": (3, 10),\n",
    "    }\n",
    "\n",
    "    regressor_type = regressor.lower()\n",
    "    if regressor_type == \"xgboost\":\n",
    "        regressor = xgb.XGBRegressor()\n",
    "    elif regressor_type == \"lightgbm\":\n",
    "        regressor = lgb.LGBMRegressor()\n",
    "    else:\n",
    "        raise ValueError(\"Unsupported regressor type. Choose 'xgboost' or 'lightgbm'.\")\n",
    "\n",
    "    # Update the search space with common parameters\n",
    "    param_space = param_space_common.copy()\n",
    "\n",
    "    # Perform Bayesian search\n",
    "    bayes_search = BayesSearchCV(\n",
    "        estimator=regressor,\n",
    "        search_spaces=param_space,\n",
    "        scoring=\"neg_mean_squared_error\",\n",
    "        cv=5,\n",
    "        n_jobs=-1,  # Set the number of parallel jobs\n",
    "    )\n",
    "    bayes_search.fit(X_train, np.log1p(y_train))\n",
    "\n",
    "    # Get the best hyperparameters\n",
    "    best_params = bayes_search.best_params_\n",
    "\n",
    "    return best_params"
   ]
  },
  {
   "cell_type": "code",
   "execution_count": null,
   "metadata": {},
   "outputs": [],
   "source": [
    "def k_fold_regression(\n",
    "    data,\n",
    "    regressor,\n",
    "    target_column=\"Salary\",\n",
    "    cols_to_ignore=['Salary', 'Id', 'PlayerName', 'Salary_normalized'],\n",
    "    n_splits=5,\n",
    "    tune_hyperparameters=False,\n",
    "):\n",
    "    rmse_scores = []\n",
    "    train_sizes = []\n",
    "    test_sizes = []\n",
    "\n",
    "    # Prepare the feature matrix X and target vector y\n",
    "    X = data.drop(columns=cols_to_ignore)\n",
    "    y = data[target_column]\n",
    "\n",
    "    # Initialize KFold cross-validator\n",
    "    kf = KFold(n_splits=n_splits, shuffle=True, random_state=42)\n",
    "\n",
    "    # Cross-validation process\n",
    "    for train_index, val_index in kf.split(X):\n",
    "        if (\n",
    "            isinstance(regressor, (xgb.XGBRegressor, lgb.LGBMRegressor))\n",
    "            and tune_hyperparameters\n",
    "        ):\n",
    "            if isinstance(regressor, xgb.XGBRegressor):\n",
    "                regressor_type = \"xgboost\"\n",
    "            elif isinstance(regressor, lgb.LGBMRegressor):\n",
    "                regressor_type = \"lightgbm\"\n",
    "            else:\n",
    "                raise ValueError(\n",
    "                    \"Unsupported regressor type. Supported types: XGBRegressor, LGBMRegressor\"\n",
    "                )\n",
    "\n",
    "            # Use the entire training data for hyperparameter tuning\n",
    "            best_params = hyperparameter_tune_bayesian(X, y, regressor_type)\n",
    "            print(f\"Best hyperparameters for {regressor_type} Fold: {best_params}\")\n",
    "            regressor.set_params(**best_params)\n",
    "\n",
    "        # Split into training and validation folds\n",
    "        X_train_fold, X_val_fold = X.iloc[train_index], X.iloc[val_index]\n",
    "        y_train_fold, y_val_fold = y.iloc[train_index], y.iloc[val_index]\n",
    "\n",
    "        # Fit the model on the training fold\n",
    "        regressor.fit(X_train_fold, np.log1p(y_train_fold))  # Fit on log-transformed target\n",
    "        y_pred_log_fold = regressor.predict(X_val_fold)\n",
    "        y_pred_fold = np.expm1(y_pred_log_fold)  # Convert back to original scale\n",
    "\n",
    "        # Calculate RMSE for the validation fold\n",
    "        rmse = np.sqrt(mean_squared_error(y_val_fold, y_pred_fold))\n",
    "        rmse_scores.append(rmse)\n",
    "        train_sizes.append(len(y_train_fold))\n",
    "        test_sizes.append(len(y_val_fold))\n",
    "\n",
    "    return rmse_scores, train_sizes, test_sizes"
   ]
  },
  {
   "cell_type": "code",
   "execution_count": null,
   "metadata": {},
   "outputs": [],
   "source": [
    "def compute_rmse_std_k_fold(df, model, tune_hyper=False):\n",
    "    rmse_list = []\n",
    "        \n",
    "    rmse_list.append(k_fold_regression(df, model, tune_hyperparameters=tune_hyper))\n",
    "\n",
    "    mean = np.mean(rmse_list)\n",
    "    std = np.std(rmse_list)\n",
    "\n",
    "    return mean, std"
   ]
  },
  {
   "cell_type": "code",
   "execution_count": null,
   "metadata": {},
   "outputs": [],
   "source": [
    "def print_rmse_k_fold(data, regressor, target_column=\"Salary\", cols_to_ignore=['Salary', 'Id', 'PlayerName', 'Salary_normalized'], n_splits=5, tune_hyperparameters=False):\n",
    "    rmse_scores, train_sizes, test_sizes = k_fold_regression(\n",
    "        data, regressor, target_column, cols_to_ignore, n_splits, tune_hyperparameters\n",
    "    )\n",
    "\n",
    "    for fold, (rmse, train_size, test_size) in enumerate(zip(rmse_scores, train_sizes, test_sizes)):\n",
    "        print(f\"Fold {fold + 1} RMSE: {rmse:.4f}, Train Size: {train_size}, Test Size: {test_size}\")\n",
    "\n",
    "    overall_rmse = np.mean(rmse_scores)\n",
    "    print(f\"Overall RMSE: {overall_rmse:.4f}\")"
   ]
  },
  {
   "cell_type": "code",
   "execution_count": null,
   "metadata": {},
   "outputs": [],
   "source": [
    "#Get the avg rmse and std over 30 tests for each model\n",
    "lr_no_int_list = compute_rmse_std_k_fold(nba_df, lr_no_int)\n",
    "lr_w_int_list = compute_rmse_std_k_fold(nba_df, lr_w_int)\n",
    "elastic_net_list = compute_rmse_std_k_fold(nba_df, elastic_net)\n",
    "#neigh_list = compute_rmse_std_k_fold(nba_df, neigh)\n",
    "dt_list = compute_rmse_std_k_fold(nba_df, dt)\n",
    "rf_list = compute_rmse_std_k_fold(nba_df, rf)\n",
    "model_xgb_list = compute_rmse_std_k_fold(nba_df, model_xgb)\n",
    "\n",
    "#The next line takes a while (Roughly 10 mins), If want to quickly run, comment out this line and the line below in data\n",
    "# model_xgb_hyper_list = compute_rmse_std_k_fold(nba_df, model_xgb, tune_hyper=True)\n",
    "\n",
    "# plot RMSE and STD for each Algorithm\n",
    "data = {\n",
    "    \"Linear (No Intercept)\": lr_no_int_list,\n",
    "    \"Linear (w/ Intercept)\": lr_w_int_list,\n",
    "    \"Elastic Net\": elastic_net_list,\n",
    "    #\"Nearest Neighbor\": neigh_list,\n",
    "    \"Decision Tree\": dt_list,\n",
    "    \"Random Forest\": rf_list,\n",
    "    \"XGBoost\": model_xgb_list,\n",
    "\n",
    "    #Comment below if want to run quicker\n",
    "    # \"XGBoost Hyper\": model_xgb_hyper_list,\n",
    "}\n",
    "data_df = pd.DataFrame(data=data).T.reset_index().sort_values(by=[0], ascending=True)\n",
    "data_df.columns = [\"Algorithm\", \"RMSE\", \"STD\"]"
   ]
  },
  {
   "cell_type": "code",
   "execution_count": null,
   "metadata": {},
   "outputs": [],
   "source": [
    "# creating the bar plot\n",
    "data_df.plot(kind=\"bar\", x=\"Algorithm\", y=[\"RMSE\", \"STD\"], figsize=(20, 10), rot=0)\n",
    "plt.xlabel(\"Algorithm\", fontsize=20)\n",
    "plt.ylabel(\"Root Mean Squared Error / Standard Deviation\", fontsize=20)\n",
    "plt.show()"
   ]
  },
  {
   "cell_type": "markdown",
   "metadata": {},
   "source": [
    "### Meta Model"
   ]
  },
  {
   "cell_type": "code",
   "execution_count": null,
   "metadata": {},
   "outputs": [],
   "source": [
    "from sklearn.ensemble import StackingRegressor\n",
    "\n",
    "# first stacking model\n",
    "  \n",
    "estimators = [\n",
    "   ('elastic_net', elastic_net),\n",
    "   ('rf', rf),\n",
    "   ('lr_w_int', lr_w_int)\n",
    "]\n",
    "\n",
    "\n",
    "sr = StackingRegressor(\n",
    "   estimators=estimators,\n",
    "   final_estimator=model_xgb\n",
    ")"
   ]
  },
  {
   "cell_type": "code",
   "execution_count": null,
   "metadata": {},
   "outputs": [],
   "source": [
    "from sklearn.ensemble import VotingRegressor\n",
    "\n",
    "# voting stacking model, putting weights on different models\n",
    "\n",
    "vr = VotingRegressor([\n",
    "   ('rf', rf),\n",
    "   ('model_xgb', model_xgb),\n",
    "   ('elastic_net', elastic_net),\n",
    "   ('lr_w_int', lr_w_int)\n",
    "  \n",
    "], weights=[1,1,2,2])\n"
   ]
  },
  {
   "cell_type": "code",
   "execution_count": null,
   "metadata": {},
   "outputs": [],
   "source": [
    "estimators2 = [\n",
    "   ('elastic_net', elastic_net),\n",
    "   ('model_xgb', model_xgb),\n",
    "   ('lr_w_int', lr_w_int),\n",
    "   ('rf', rf)\n",
    "]\n",
    "\n",
    "# using the voting model as our final estimator\n",
    "\n",
    "sr2 = StackingRegressor(\n",
    "   estimators=estimators2,\n",
    "   final_estimator=vr\n",
    ")"
   ]
  },
  {
   "cell_type": "markdown",
   "metadata": {},
   "source": [
    "# More tesing with the new models\n",
    "Removed Nearest Neighbor, Linear No Int, Linear W Int, Elastic Net, and Descision tree because they are worst performing"
   ]
  },
  {
   "cell_type": "code",
   "execution_count": null,
   "metadata": {},
   "outputs": [],
   "source": [
    "#Get the avg rmse and std over 30 tests for each model\n",
    "rf_list = compute_rmse_std_k_fold(nba_df, rf)\n",
    "model_xgb_list = compute_rmse_std_k_fold(nba_df, model_xgb)\n",
    "sr_list = compute_rmse_std_k_fold(nba_df, sr)\n",
    "vr_list = compute_rmse_std_k_fold(nba_df, vr)\n",
    "sr2_list = compute_rmse_std_k_fold(nba_df, sr2)\n",
    "# model_xgb_hyper_list = compute_rmse_std_k_fold(nba_df, model_xgb, tune_hyper=True)\n",
    "sr_hyper_list = compute_rmse_std_k_fold(nba_df, sr, tune_hyper=True)\n",
    "vr_hyper_list = compute_rmse_std_k_fold(nba_df, vr, tune_hyper=True)\n",
    "sr2_hyper_list = compute_rmse_std_k_fold(nba_df, sr2, tune_hyper=True)\n",
    "\n",
    "\n",
    "# plot RMSE and STD for each Algorithm\n",
    "data = {\n",
    "    \"Random Forest\": rf_list,\n",
    "    \"XGBoost\": model_xgb_list,\n",
    "    \"Stacking Regressor\": sr_list,\n",
    "    \"Voting Regressor\": vr_list,\n",
    "    \"Stacking Regressor 2\": sr2_list,\n",
    "    # \"XGBoost Hyper\": model_xgb_hyper_list,\n",
    "    \"Stacking Regressor Hyper\": sr_hyper_list,\n",
    "    \"Voting Regressor Hyper\": vr_hyper_list,\n",
    "    \"Stacking Regressor 2 Hyper\": sr2_hyper_list,\n",
    "}\n",
    "data_df = pd.DataFrame(data=data).T.reset_index().sort_values(by=[0], ascending=True)\n",
    "data_df.columns = [\"Algorithm\", \"RMSE\", \"STD\"]"
   ]
  },
  {
   "cell_type": "code",
   "execution_count": null,
   "metadata": {},
   "outputs": [],
   "source": [
    "# creating the bar plot\n",
    "data_df.plot(kind=\"bar\", x=\"Algorithm\", y=[\"RMSE\", \"STD\"], figsize=(20, 10), rot=0)\n",
    "plt.xlabel(\"Algorithm\", fontsize=20)\n",
    "plt.ylabel(\"Root Mean Squared Error / Standard Deviation\", fontsize=20)\n",
    "plt.show()"
   ]
  },
  {
   "cell_type": "code",
   "execution_count": null,
   "metadata": {},
   "outputs": [],
   "source": [
    "import pandas as pd\n",
    "import numpy as np\n",
    "from sklearn.model_selection import KFold\n",
    "from sklearn.metrics import mean_squared_error\n",
    "import xgboost as xgb\n",
    "\n",
    "# Prepare the data\n",
    "X = nba_df.drop(columns=['Salary', 'Id', 'PlayerName', 'Salary_normalized'])\n",
    "y = nba_df['Salary']\n",
    "\n",
    "# Initialize the regressor\n",
    "model_xgb = xgb.XGBRegressor(max_depth=5, n_estimators=1000, learning_rate=0.01)\n",
    "\n",
    "# Initialize KFold cross-validator\n",
    "kf = KFold(n_splits=5, shuffle=True)\n",
    "\n",
    "rmse_scores = []\n",
    "all_actuals = []\n",
    "all_predictions = []\n",
    "\n",
    "# K-fold cross-validation process\n",
    "for train_index, test_index in kf.split(X):\n",
    "    X_train, X_test = X.iloc[train_index], X.iloc[test_index]\n",
    "    y_train, y_test = y.iloc[train_index], y.iloc[test_index]\n",
    "\n",
    "    # Training the model\n",
    "    model_xgb.fit(X_train, np.log1p(y_train))\n",
    "\n",
    "    # Making predictions on the test set\n",
    "    y_pred_log = model_xgb.predict(X_test)\n",
    "    y_pred = np.expm1(y_pred_log)\n",
    "\n",
    "    # Handle NaN or infinity values in predictions\n",
    "    if np.isnan(y_pred).any() or np.isinf(y_pred).any():\n",
    "        print(\"Warning: NaN or infinity values found in predictions. Imputing 0 for problematic values in y_pred.\")\n",
    "        y_pred[np.isnan(y_pred) | np.isinf(y_pred)] = 0\n",
    "\n",
    "    # Collect actual and predicted values\n",
    "    all_actuals.extend(y_test)\n",
    "    all_predictions.extend(y_pred)\n",
    "\n",
    "    # Computing RMSE for the current fold\n",
    "    rmse = np.sqrt(mean_squared_error(y_test, y_pred))\n",
    "    rmse_scores.append(rmse)\n",
    "\n",
    "# Convert collected actual and predicted values to a DataFrame for comparison\n",
    "comparison_df = pd.DataFrame({'Actual Salary': all_actuals, 'Predicted Salary': all_predictions})\n",
    "print(comparison_df)\n",
    "\n",
    "# Print average RMSE across all folds\n",
    "average_rmse = np.mean(rmse_scores)\n",
    "print(f\"Average RMSE: {average_rmse}\")"
   ]
  }
 ],
 "metadata": {
  "kernelspec": {
   "display_name": "Python 3.11.5 ('base')",
   "language": "python",
   "name": "python3"
  },
  "language_info": {
   "codemirror_mode": {
    "name": "ipython",
    "version": 3
   },
   "file_extension": ".py",
   "mimetype": "text/x-python",
   "name": "python",
   "nbconvert_exporter": "python",
   "pygments_lexer": "ipython3",
   "version": "3.11.5"
  },
  "orig_nbformat": 4,
  "vscode": {
   "interpreter": {
    "hash": "5ccb5ea80edbfae8c6780fa0b5909321291a27faa1189b515049edc570dffb73"
   }
  }
 },
 "nbformat": 4,
 "nbformat_minor": 2
}

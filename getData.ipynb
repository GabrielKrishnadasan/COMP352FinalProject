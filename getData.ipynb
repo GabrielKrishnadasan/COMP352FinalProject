{
 "cells": [
  {
   "cell_type": "code",
   "execution_count": 37,
   "metadata": {},
   "outputs": [
    {
     "name": "stdout",
     "output_type": "stream",
     "text": [
      "Requirement already satisfied: pytest-playwright in /Users/gabekrishnadasan/anaconda3/lib/python3.11/site-packages (0.4.4)\n",
      "Requirement already satisfied: playwright>=1.18 in /Users/gabekrishnadasan/anaconda3/lib/python3.11/site-packages (from pytest-playwright) (1.43.0)\n",
      "Requirement already satisfied: pytest<9.0.0,>=6.2.4 in /Users/gabekrishnadasan/anaconda3/lib/python3.11/site-packages (from pytest-playwright) (7.4.0)\n",
      "Requirement already satisfied: pytest-base-url<3.0.0,>=1.0.0 in /Users/gabekrishnadasan/anaconda3/lib/python3.11/site-packages (from pytest-playwright) (2.1.0)\n",
      "Requirement already satisfied: python-slugify<9.0.0,>=6.0.0 in /Users/gabekrishnadasan/anaconda3/lib/python3.11/site-packages (from pytest-playwright) (8.0.4)\n",
      "Requirement already satisfied: greenlet==3.0.3 in /Users/gabekrishnadasan/anaconda3/lib/python3.11/site-packages (from playwright>=1.18->pytest-playwright) (3.0.3)\n",
      "Requirement already satisfied: pyee==11.1.0 in /Users/gabekrishnadasan/anaconda3/lib/python3.11/site-packages (from playwright>=1.18->pytest-playwright) (11.1.0)\n",
      "Requirement already satisfied: typing-extensions in /Users/gabekrishnadasan/anaconda3/lib/python3.11/site-packages (from pyee==11.1.0->playwright>=1.18->pytest-playwright) (4.7.1)\n",
      "Requirement already satisfied: iniconfig in /Users/gabekrishnadasan/anaconda3/lib/python3.11/site-packages (from pytest<9.0.0,>=6.2.4->pytest-playwright) (1.1.1)\n",
      "Requirement already satisfied: packaging in /Users/gabekrishnadasan/anaconda3/lib/python3.11/site-packages (from pytest<9.0.0,>=6.2.4->pytest-playwright) (23.1)\n",
      "Requirement already satisfied: pluggy<2.0,>=0.12 in /Users/gabekrishnadasan/anaconda3/lib/python3.11/site-packages (from pytest<9.0.0,>=6.2.4->pytest-playwright) (1.0.0)\n",
      "Requirement already satisfied: requests>=2.9 in /Users/gabekrishnadasan/anaconda3/lib/python3.11/site-packages (from pytest-base-url<3.0.0,>=1.0.0->pytest-playwright) (2.31.0)\n",
      "Requirement already satisfied: text-unidecode>=1.3 in /Users/gabekrishnadasan/anaconda3/lib/python3.11/site-packages (from python-slugify<9.0.0,>=6.0.0->pytest-playwright) (1.3)\n",
      "Requirement already satisfied: charset-normalizer<4,>=2 in /Users/gabekrishnadasan/anaconda3/lib/python3.11/site-packages (from requests>=2.9->pytest-base-url<3.0.0,>=1.0.0->pytest-playwright) (2.0.4)\n",
      "Requirement already satisfied: idna<4,>=2.5 in /Users/gabekrishnadasan/anaconda3/lib/python3.11/site-packages (from requests>=2.9->pytest-base-url<3.0.0,>=1.0.0->pytest-playwright) (3.4)\n",
      "Requirement already satisfied: urllib3<3,>=1.21.1 in /Users/gabekrishnadasan/anaconda3/lib/python3.11/site-packages (from requests>=2.9->pytest-base-url<3.0.0,>=1.0.0->pytest-playwright) (1.26.16)\n",
      "Requirement already satisfied: certifi>=2017.4.17 in /Users/gabekrishnadasan/anaconda3/lib/python3.11/site-packages (from requests>=2.9->pytest-base-url<3.0.0,>=1.0.0->pytest-playwright) (2024.2.2)\n"
     ]
    }
   ],
   "source": [
    "!pip3 install pytest-playwright"
   ]
  },
  {
   "cell_type": "code",
   "execution_count": 38,
   "metadata": {},
   "outputs": [],
   "source": [
    "import os\n",
    "from bs4 import BeautifulSoup\n",
    "import requests\n",
    "import time"
   ]
  },
  {
   "cell_type": "code",
   "execution_count": 39,
   "metadata": {},
   "outputs": [],
   "source": [
    "letters = [chr(letter) for letter in range(ord('a'), ord('z')+1)]"
   ]
  },
  {
   "cell_type": "code",
   "execution_count": 41,
   "metadata": {},
   "outputs": [],
   "source": [
    "def save_html(url, folder_path, file_name):\n",
    "    # Make a GET request to the URL\n",
    "    response = requests.get(url)\n",
    "    \n",
    "    # Check if the request was successful\n",
    "    if response.status_code == 200:\n",
    "        # Create the folder if it doesn't exist\n",
    "        if not os.path.exists(folder_path):\n",
    "            os.makedirs(folder_path)\n",
    "        \n",
    "        # Write the HTML content to a file\n",
    "        with open(os.path.join(folder_path, file_name), 'w', encoding='utf-8') as f:\n",
    "            f.write(response.text)\n",
    "    else:\n",
    "        print(\"Failed to retrieve HTML. Status code:\", response.status_code)"
   ]
  },
  {
   "cell_type": "code",
   "execution_count": 42,
   "metadata": {},
   "outputs": [],
   "source": [
    "for letter in letters:\n",
    "    url = f\"https://www.basketball-reference.com/players/{letter}/\"\n",
    "    save_folder_path = \"data/player_names\"\n",
    "    file_name = f\"{letter}_names.html\"\n",
    "\n",
    "    save_html(url, save_folder_path, file_name)\n",
    "    "
   ]
  },
  {
   "cell_type": "code",
   "execution_count": 43,
   "metadata": {},
   "outputs": [],
   "source": [
    "def parse_html_file(file_path):\n",
    "    with open(file_path, 'r', encoding='utf-8') as file:\n",
    "        html_content = file.read()\n",
    "    \n",
    "    # Parse HTML using BeautifulSoup\n",
    "    soup = BeautifulSoup(html_content, 'html.parser')\n",
    "    \n",
    "    # Find the table with id=\"players\"\n",
    "    players_table = soup.find('table', id='players')\n",
    "    if players_table:\n",
    "        # Find all table rows within the players table\n",
    "        table_rows = players_table.find_all('tr')\n",
    "        \n",
    "        # Extract href values from anchor elements within each row\n",
    "        href_values = []\n",
    "        for row in table_rows:\n",
    "            anchor = row.find('a')\n",
    "            if anchor and anchor.has_attr('href'):\n",
    "                href_values.append(anchor['href'])\n",
    "        \n",
    "        return href_values\n",
    "    else:\n",
    "        print(\"No table with id='players' found in:\", file_path)\n",
    "        return []"
   ]
  },
  {
   "cell_type": "code",
   "execution_count": 44,
   "metadata": {},
   "outputs": [],
   "source": [
    "for letter in letters:\n",
    "    file_path = f\"data/player_names/{letter}_names.html\"\n",
    "    href_values = parse_html_file(file_path)\n",
    "\n",
    "    href_file_path = os.path.join(\"data/player_href\", f\"{letter}_names_href.txt\")\n",
    "    with open(href_file_path, 'w', encoding='utf-8') as href_file:\n",
    "        href_file.write('\\n'.join(href_values))"
   ]
  }
 ],
 "metadata": {
  "kernelspec": {
   "display_name": "Python 3.11.5 ('base')",
   "language": "python",
   "name": "python3"
  },
  "language_info": {
   "codemirror_mode": {
    "name": "ipython",
    "version": 3
   },
   "file_extension": ".py",
   "mimetype": "text/x-python",
   "name": "python",
   "nbconvert_exporter": "python",
   "pygments_lexer": "ipython3",
   "version": "3.11.5"
  },
  "orig_nbformat": 4,
  "vscode": {
   "interpreter": {
    "hash": "5ccb5ea80edbfae8c6780fa0b5909321291a27faa1189b515049edc570dffb73"
   }
  }
 },
 "nbformat": 4,
 "nbformat_minor": 2
}

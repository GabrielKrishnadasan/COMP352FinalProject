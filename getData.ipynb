{
 "cells": [
  {
   "cell_type": "markdown",
   "metadata": {},
   "source": [
    "### See this link for scraping of Sports Reference: https://www.sports-reference.com/bot-traffic.html"
   ]
  },
  {
   "cell_type": "code",
   "execution_count": 1,
   "metadata": {},
   "outputs": [],
   "source": [
    "import os\n",
    "from bs4 import BeautifulSoup, Comment\n",
    "import requests\n",
    "import time\n",
    "import random"
   ]
  },
  {
   "cell_type": "code",
   "execution_count": 2,
   "metadata": {},
   "outputs": [],
   "source": [
    "letters = [chr(letter) for letter in range(ord('a'), ord('z')+1)]"
   ]
  },
  {
   "cell_type": "code",
   "execution_count": 3,
   "metadata": {},
   "outputs": [],
   "source": [
    "def save_html(url, folder_path, file_name):\n",
    "\n",
    "    time.sleep(5)\n",
    "\n",
    "    # Make a GET request to the URL\n",
    "    response = requests.get(url)\n",
    "    \n",
    "    # Check if the request was successful\n",
    "    if response.status_code == 200:\n",
    "        # Create the folder if it doesn't exist\n",
    "        if not os.path.exists(folder_path):\n",
    "            os.makedirs(folder_path)\n",
    "        \n",
    "        # Write the HTML content to a file\n",
    "        with open(os.path.join(folder_path, file_name), 'w', encoding='utf-8') as f:\n",
    "            f.write(response.text)\n",
    "    else:\n",
    "        print(\"Failed to retrieve HTML. Status code:\", response.status_code)"
   ]
  },
  {
   "cell_type": "code",
   "execution_count": 42,
   "metadata": {},
   "outputs": [],
   "source": [
    "for letter in letters:\n",
    "    url = f\"https://www.basketball-reference.com/players/{letter}/\"\n",
    "    save_folder_path = \"data/player_names\"\n",
    "    file_name = f\"{letter}_names.html\"\n",
    "\n",
    "    save_html(url, save_folder_path, file_name)\n",
    "    "
   ]
  },
  {
   "cell_type": "code",
   "execution_count": 4,
   "metadata": {},
   "outputs": [],
   "source": [
    "def parse_html_file(file_path):\n",
    "    with open(file_path, 'r', encoding='utf-8') as file:\n",
    "        html_content = file.read()\n",
    "    \n",
    "    # Parse HTML using BeautifulSoup\n",
    "    soup = BeautifulSoup(html_content, 'html.parser')\n",
    "    \n",
    "    # Find the table with id=\"players\"\n",
    "    players_table = soup.find('table', id='players')\n",
    "    if players_table:\n",
    "        # Find all table rows within the players table\n",
    "        table_rows = players_table.find_all('tr')\n",
    "        \n",
    "        # Extract href values from anchor elements within each row\n",
    "        href_values = []\n",
    "        for row in table_rows:\n",
    "            anchor = row.find('a')\n",
    "            if anchor and anchor.has_attr('href'):\n",
    "                href_values.append(anchor['href'])\n",
    "        \n",
    "        return href_values\n",
    "    else:\n",
    "        print(\"No table with id='players' found in:\", file_path)\n",
    "        return []"
   ]
  },
  {
   "cell_type": "code",
   "execution_count": 44,
   "metadata": {},
   "outputs": [],
   "source": [
    "for letter in letters:\n",
    "    file_path = f\"data/player_names/{letter}_names.html\"\n",
    "    href_values = parse_html_file(file_path)\n",
    "\n",
    "    href_file_path = os.path.join(\"data/player_href\", f\"{letter}_names_href.txt\")\n",
    "    with open(href_file_path, 'w', encoding='utf-8') as href_file:\n",
    "        href_file.write('\\n'.join(href_values))"
   ]
  },
  {
   "cell_type": "code",
   "execution_count": 5,
   "metadata": {},
   "outputs": [],
   "source": [
    "def check_file_exists(file_path):\n",
    "    return os.path.exists(file_path)"
   ]
  },
  {
   "cell_type": "code",
   "execution_count": 6,
   "metadata": {},
   "outputs": [],
   "source": [
    "# Function to retrieve HTML for a single href and store it in player_html folder\n",
    "def save_player_html(href, folder_path):\n",
    "    # Make a GET request to the href\n",
    "    href = href.strip()\n",
    "\n",
    "    # Extract player ID from href\n",
    "    player_id = href.split('/')[-1]\n",
    "        \n",
    "    # Write the HTML content to a file\n",
    "    file_name = player_id\n",
    "    file_path = os.path.join(folder_path, file_name)\n",
    "\n",
    "    if not check_file_exists(file_path):\n",
    "        time.sleep(3.1)\n",
    "        url = f\"https://www.basketball-reference.com{href}\"\n",
    "        print(url)\n",
    "\n",
    "        response = requests.get(url)\n",
    "        \n",
    "        # Check if the request was successful\n",
    "        if response.status_code == 200:\n",
    "            with open(file_path, 'w', encoding='utf-8') as f:\n",
    "                f.write(response.text)\n",
    "        else:\n",
    "            print(f\"Failed to retrieve HTML for player {url}. Status code:\", response.status_code)\n",
    "    else:\n",
    "        return\n"
   ]
  },
  {
   "cell_type": "code",
   "execution_count": 8,
   "metadata": {},
   "outputs": [],
   "source": [
    "for letter in letters:\n",
    "    file_path = os.path.join(\"data/player_href/\", f\"{letter}_names_href.txt\")\n",
    "    with open(file_path, 'r', encoding='utf-8') as href_file:\n",
    "        for href in href_file:\n",
    "            # Call save_player_html function for each href\n",
    "            save_player_html(href, \"data/player_html\")"
   ]
  },
  {
   "cell_type": "code",
   "execution_count": 154,
   "metadata": {},
   "outputs": [],
   "source": [
    "def parse_player_salary_html(file_path):\n",
    "    with open(file_path, 'r', encoding='utf-8') as file:\n",
    "        html_content = file.read()\n",
    "\n",
    "    soup = BeautifulSoup(html_content, 'html.parser')\n",
    "    \n",
    "    for comment in soup.find_all(string=lambda text:isinstance(text,Comment)):\n",
    "        data = BeautifulSoup(comment, \"html.parser\")\n",
    "        salaries_table = data.find('table', id='all_salaries')\n",
    "        if salaries_table:\n",
    "            break\n",
    "\n",
    "    # Check if the salaries table exists\n",
    "    if salaries_table:\n",
    "        # Find all table rows within the salaries table\n",
    "        table_rows = salaries_table.find_all('tr')\n",
    "        \n",
    "        # Initialize a list to store salary data\n",
    "        player_salaries = []\n",
    "        \n",
    "        for row in table_rows[1:]:\n",
    "            i = 0\n",
    "            for item in row:\n",
    "                if i == 0:\n",
    "                    season = ''.join(map(str, item.contents))\n",
    "                else:\n",
    "                    temp = [cell.get_text(strip=True) for cell in row.find_all('td')]\n",
    "                    if i == 1:\n",
    "                        team_name = temp[0]\n",
    "                    elif i == 2:\n",
    "                        lg_id = temp[1]\n",
    "                    else: \n",
    "                        salary = temp[2].replace(\"$\", '').replace(',', '')\n",
    "                i += 1\n",
    "\n",
    "            # Append data to player_salaries list\n",
    "            player_salaries.append({\n",
    "                'season': season,\n",
    "                'team_name': team_name,\n",
    "                'lg_id': lg_id,\n",
    "                'salary': salary\n",
    "            })\n",
    "        \n",
    "        return player_salaries\n",
    "    else:\n",
    "        print(\"No table with id='all_salaries' found in the HTML.\")\n",
    "        return []"
   ]
  },
  {
   "cell_type": "code",
   "execution_count": 9,
   "metadata": {},
   "outputs": [],
   "source": [
    "def parse_player_stats_html(file_path):\n",
    "    with open(file_path, 'r', encoding='utf-8') as file:\n",
    "        html_content = file.read()\n",
    "\n",
    "    soup = BeautifulSoup(html_content, 'html.parser')\n",
    "\n",
    "    for comment in soup.find_all(string=lambda text:isinstance(text,Comment)):\n",
    "        data = BeautifulSoup(comment, \"html.parser\")\n",
    "        per_game_table = data.find('table', id='per_game')\n",
    "        if per_game_table:\n",
    "            break\n",
    "\n",
    "    print(per_game_table)"
   ]
  },
  {
   "cell_type": "code",
   "execution_count": null,
   "metadata": {},
   "outputs": [],
   "source": [
    "parse_player_stats_html()"
   ]
  },
  {
   "cell_type": "code",
   "execution_count": 155,
   "metadata": {},
   "outputs": [
    {
     "name": "stderr",
     "output_type": "stream",
     "text": [
      "/var/folders/h0/y8r099r96cn6lxw_yr17bkq00000gn/T/ipykernel_8720/2767374738.py:8: MarkupResemblesLocatorWarning: The input looks more like a filename than markup. You may want to open this file and pass the filehandle into Beautiful Soup.\n",
      "  data = BeautifulSoup(comment, \"html.parser\")\n"
     ]
    },
    {
     "name": "stdout",
     "output_type": "stream",
     "text": [
      "[{'season': '1984-85', 'team_name': 'Los Angeles Lakers', 'lg_id': 'NBA', 'salary': '1530000'}, {'season': '1985-86', 'team_name': 'Los Angeles Lakers', 'lg_id': 'NBA', 'salary': '2030000'}, {'season': '1987-88', 'team_name': 'Los Angeles Lakers', 'lg_id': 'NBA', 'salary': '2000000'}, {'season': '1988-89', 'team_name': 'Los Angeles Lakers', 'lg_id': 'NBA', 'salary': '3000000'}, {'season': 'Career', 'team_name': '(may be incomplete)', 'lg_id': '', 'salary': '8560000'}]\n"
     ]
    }
   ],
   "source": [
    "test_html = \"data/player_html/abdulka01.html\"\n",
    "\n",
    "temp = parse_player_salary_html(test_html)\n",
    "print(temp)\n",
    "\n",
    "\n"
   ]
  }
 ],
 "metadata": {
  "kernelspec": {
   "display_name": "Python 3.11.5 ('base')",
   "language": "python",
   "name": "python3"
  },
  "language_info": {
   "codemirror_mode": {
    "name": "ipython",
    "version": 3
   },
   "file_extension": ".py",
   "mimetype": "text/x-python",
   "name": "python",
   "nbconvert_exporter": "python",
   "pygments_lexer": "ipython3",
   "version": "3.11.5"
  },
  "orig_nbformat": 4,
  "vscode": {
   "interpreter": {
    "hash": "5ccb5ea80edbfae8c6780fa0b5909321291a27faa1189b515049edc570dffb73"
   }
  }
 },
 "nbformat": 4,
 "nbformat_minor": 2
}
